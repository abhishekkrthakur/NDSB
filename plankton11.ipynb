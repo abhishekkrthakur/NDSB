{
 "metadata": {
  "name": "",
  "signature": "sha256:8ffe7452ab6fcef0aa3affef949618992dcae928c038d368cd6e125f1dd4d875"
 },
 "nbformat": 3,
 "nbformat_minor": 0,
 "worksheets": [
  {
   "cells": [
    {
     "cell_type": "code",
     "collapsed": false,
     "input": [
      "#%sudo ldconfig /usr/local/cuda/lib64\n",
      "%matplotlib inline\n",
      "import theano\n",
      "import numpy as np\n",
      "import matplotlib.pyplot as plt\n",
      "\n",
      "from sklearn.datasets import load_digits\n",
      "from sklearn.preprocessing import LabelBinarizer\n",
      "from lasagne import layers\n",
      "from lasagne.updates import nesterov_momentum\n",
      "from lasagne.nonlinearities import softmax\n",
      "from nolearn.lasagne import NeuralNet\n",
      "Conv2DLayer = layers.cuda_convnet.Conv2DCCLayer\n",
      "MaxPool2DLayer = layers.cuda_convnet.MaxPool2DCCLayer\n",
      "import pandas as pd"
     ],
     "language": "python",
     "metadata": {},
     "outputs": [],
     "prompt_number": 102
    },
    {
     "cell_type": "code",
     "collapsed": false,
     "input": [
      "import time\n",
      "def timestamp():\n",
      "    return \"_\".join([str(k).zfill(2) for k in time.localtime()][0:5])\n",
      "\n",
      "def show_image(img):\n",
      "    plt.axis('off')\n",
      "    plt.imshow(img, cmap='gray', interpolation='nearest')"
     ],
     "language": "python",
     "metadata": {},
     "outputs": [],
     "prompt_number": 103
    },
    {
     "cell_type": "code",
     "collapsed": false,
     "input": [
      "def float32(k):\n",
      "    return np.cast['float32'](k)\n",
      "\n",
      "class AdjustVariable(object):\n",
      "    def __init__(self, name, start=0.03, stop=0.001):\n",
      "        self.name = name\n",
      "        self.start, self.stop = start, stop\n",
      "        self.ls = None\n",
      "\n",
      "    def __call__(self, nn, train_history):\n",
      "        if self.ls is None:\n",
      "            self.ls = np.linspace(self.start, self.stop, nn.max_epochs)\n",
      "\n",
      "        epoch = train_history[-1]['epoch']\n",
      "        new_value = float32(self.ls[epoch - 1])\n",
      "        setattr(nn, self.name, new_value)\n",
      "\n",
      "class EarlyStopping(object):\n",
      "    def __init__(self, patience=100):\n",
      "        self.patience = patience\n",
      "        self.best_valid = np.inf\n",
      "        self.best_valid_epoch = 0\n",
      "        self.best_weights = None\n",
      "\n",
      "    def __call__(self, nn, train_history):\n",
      "        current_valid = train_history[-1]['valid_loss']\n",
      "        current_epoch = train_history[-1]['epoch']\n",
      "        if current_valid < self.best_valid:\n",
      "            self.best_valid = current_valid\n",
      "            self.best_valid_epoch = current_epoch\n",
      "            self.best_weights = [w.get_value() for w in nn.get_all_params()]\n",
      "        elif self.best_valid_epoch + self.patience < current_epoch:\n",
      "            print(\"Early stopping.\")\n",
      "            print(\"Best valid loss was {:.6f} at epoch {}.\".format(\n",
      "                self.best_valid, self.best_valid_epoch))\n",
      "            nn.load_weights_from(self.best_weights)\n",
      "            raise StopIteration()"
     ],
     "language": "python",
     "metadata": {},
     "outputs": [],
     "prompt_number": 3
    },
    {
     "cell_type": "code",
     "collapsed": false,
     "input": [
      "import glob\n",
      "import os\n",
      "import matplotlib.pyplot as plt\n",
      "\n",
      "classes = np.asarray([d.split('/')[1] for d in glob.glob('train/*')])\n",
      "def load_filenames(base_dir, class_name):\n",
      "    return [f.split('/')[2] for f in glob.glob(os.path.join(base_dir, class_name, '*.jpg'))]\n",
      "\n",
      "def count_files(set_name, class_name):\n",
      "    return len(load_filenames(set_name, class_name))\n",
      "\n",
      "num_files = sum(count_files('train', c) for c in classes)\n",
      "num_classes = len(classes)\n",
      "\n",
      "print 'Number of classes:', num_classes\n",
      "print 'Number of images:', num_files"
     ],
     "language": "python",
     "metadata": {},
     "outputs": [
      {
       "output_type": "stream",
       "stream": "stdout",
       "text": [
        "Number of classes: 121\n",
        "Number of images: 30336\n"
       ]
      }
     ],
     "prompt_number": 4
    },
    {
     "cell_type": "code",
     "collapsed": false,
     "input": [
      "%matplotlib inline\n",
      "IMG_SIZE = 96\n",
      "IMG_DIM = IMG_SIZE, IMG_SIZE\n",
      "\n",
      "from skimage.filter import threshold_adaptive\n",
      "from skimage.exposure import equalize_adapthist\n",
      "from skimage.restoration import denoise_tv_chambolle, denoise_bilateral\n",
      "from skimage.filter import sobel\n",
      "from skimage.io import imread\n",
      "from skimage.transform import resize\n",
      "from skimage.filter.rank import median\n",
      "from skimage.morphology import disk\n",
      "#from PIL import ImageFilter\n",
      "\n",
      "def place_center(img, shape):\n",
      "    w, h = img.shape\n",
      "    nw, nh = shape\n",
      "    new_img = np.zeros(shape, dtype=img.dtype)\n",
      "    x = nw / 2 - w / 2\n",
      "    y = nh / 2 - h / 2\n",
      "    #print 'reshaping to', (nw, nh), 'origin at', (x, y), (w, h), new_img.shape\n",
      "    new_img[x:x+w, y:y+h] = img\n",
      "    return new_img\n",
      "\n",
      "def pre_process(img):\n",
      "    #img = denoise_bilateral(img, sigma_range=0.1)\n",
      "    \n",
      "    #img = median(img, disk(1))\n",
      "    img = (255 - img)\n",
      "    \n",
      "    #img = img.filter(ImageFilter.SHARPEN())\n",
      "    \n",
      "    s = max(img.shape)\n",
      "    img = place_center(img, (s, s))\n",
      "    img = resize(img, IMG_DIM)\n",
      "    \n",
      "    #img = (img - img.min()) / (img.max() - img.min())\n",
      "    #img[img < 0.05] = 0.0\n",
      "    #img = (img * 1000).astype(np.int8)\n",
      "    return img.astype(np.float32)\n",
      "\n",
      "img = imread('train/hydromedusae_typeD_bell_and_tentacles/1021.jpg')\n",
      "img = pre_process(img)\n",
      "print img.shape, img.max(), img.min()\n",
      "show_image(img)\n",
      "img.dtype, img.max(), img.min()"
     ],
     "language": "python",
     "metadata": {},
     "outputs": [
      {
       "output_type": "stream",
       "stream": "stdout",
       "text": [
        "(96, 96) 0.854433 0.0\n"
       ]
      },
      {
       "metadata": {},
       "output_type": "pyout",
       "prompt_number": 127,
       "text": [
        "(dtype('float32'), 0.85443264, 0.0)"
       ]
      },
      {
       "metadata": {},
       "output_type": "display_data",
       "png": "[encoded data removed]",
       "text": [
        "<matplotlib.figure.Figure at 0x7f64ac844a10>"
       ]
      }
     ],
     "prompt_number": 127
    },
    {
     "cell_type": "code",
     "collapsed": false,
     "input": [
      "import os, fnmatch\n",
      "def find_files(directory, pattern):\n",
      "    for root, dirs, files in os.walk(directory):\n",
      "        for basename in files:\n",
      "            if fnmatch.fnmatch(basename, pattern):\n",
      "                filename = os.path.join(root, basename)\n",
      "                yield filename"
     ],
     "language": "python",
     "metadata": {},
     "outputs": [],
     "prompt_number": 128
    },
    {
     "cell_type": "code",
     "collapsed": false,
     "input": [
      "def load_train_data():\n",
      "    for f in list(find_files('train/', '*.jpg')):\n",
      "        class_name = f.split('/')[1]\n",
      "        img = imread(f)\n",
      "        yield class_name, pre_process(img)\n",
      "           \n",
      "def load_train():\n",
      "    train = []\n",
      "    train_label = []\n",
      "    for i, (label, img) in enumerate(load_train_data()):\n",
      "        train.append(img)\n",
      "        train_label.append(label)\n",
      "        if i % 2000 == 0:\n",
      "            print i,\n",
      "\n",
      "    train = np.asarray(train)\n",
      "    train_label = np.asarray(train_label)\n",
      "    \n",
      "    return train, train_label\n",
      "\n",
      "train, train_label = load_train()\n",
      "\n",
      "idx = np.arange(len(train))\n",
      "np.random.shuffle(idx)\n",
      "X = (train.reshape(-1, 1, IMG_SIZE, IMG_SIZE)).astype(np.float32)[idx]\n",
      "y = train_label[idx]\n",
      "\n",
      "from sklearn.preprocessing import StandardScaler\n",
      "\n",
      "#scaler = StandardScaler()\n",
      "#scaler.fit(X.reshape(X.shape[0], -1))\n",
      "\n",
      "#def picture_space(scaled_data):\n",
      "#    Xt = scaler.inverse_transform(scaled_data.reshape(scaled_data.shape[0], -1))\n",
      "#    return Xt.reshape(-1, 1, IMG_SIZE, IMG_SIZE)\n",
      "\n",
      "#def input_space(unscaled_data):\n",
      "#    Xt = scaler.transform(unscaled_data.reshape(unscaled_data.shape[0], -1))\n",
      "#    return Xt.reshape(-1, 1, IMG_SIZE, IMG_SIZE)\n",
      "\n",
      "#X_mean = X.reshape(X.shape[0], 96, 96).mean(axis=0)\n",
      "\n",
      "print X.shape, X.dtype, X.max(), X.min(), y"
     ],
     "language": "python",
     "metadata": {},
     "outputs": [
      {
       "output_type": "stream",
       "stream": "stdout",
       "text": [
        "0 "
       ]
      },
      {
       "output_type": "stream",
       "stream": "stdout",
       "text": [
        "2000 "
       ]
      },
      {
       "output_type": "stream",
       "stream": "stdout",
       "text": [
        "4000 "
       ]
      },
      {
       "output_type": "stream",
       "stream": "stdout",
       "text": [
        "6000 "
       ]
      },
      {
       "output_type": "stream",
       "stream": "stdout",
       "text": [
        "8000 "
       ]
      },
      {
       "output_type": "stream",
       "stream": "stdout",
       "text": [
        "10000 "
       ]
      },
      {
       "output_type": "stream",
       "stream": "stdout",
       "text": [
        "12000 "
       ]
      },
      {
       "output_type": "stream",
       "stream": "stdout",
       "text": [
        "14000 "
       ]
      },
      {
       "output_type": "stream",
       "stream": "stdout",
       "text": [
        "16000 "
       ]
      },
      {
       "output_type": "stream",
       "stream": "stdout",
       "text": [
        "18000 "
       ]
      },
      {
       "output_type": "stream",
       "stream": "stdout",
       "text": [
        "20000 "
       ]
      },
      {
       "output_type": "stream",
       "stream": "stdout",
       "text": [
        "22000 "
       ]
      },
      {
       "output_type": "stream",
       "stream": "stdout",
       "text": [
        "24000 "
       ]
      },
      {
       "output_type": "stream",
       "stream": "stdout",
       "text": [
        "26000 "
       ]
      },
      {
       "output_type": "stream",
       "stream": "stdout",
       "text": [
        "28000 "
       ]
      },
      {
       "output_type": "stream",
       "stream": "stdout",
       "text": [
        "30000 "
       ]
      },
      {
       "output_type": "stream",
       "stream": "stdout",
       "text": [
        "(30336, 1, 96, 96) float32 "
       ]
      },
      {
       "output_type": "stream",
       "stream": "stdout",
       "text": [
        "1.0 "
       ]
      },
      {
       "output_type": "stream",
       "stream": "stdout",
       "text": [
        "0.0 ['tunicate_doliolid' 'trichodesmium_puff' 'chaetognath_other' ...,\n",
        " 'trichodesmium_puff' 'protist_noctiluca' 'copepod_cyclopoid_oithona']\n"
       ]
      }
     ],
     "prompt_number": 129
    },
    {
     "cell_type": "code",
     "collapsed": false,
     "input": [
      "from os.path import basename\n",
      "\n",
      "def load_test_data():\n",
      "    for f in glob.glob('test/*.jpg'):\n",
      "        img = imread(f)\n",
      "        id = basename(f).split('.jpg')[0]\n",
      "        yield id, pre_process(img)\n",
      "\n",
      "def load_test():\n",
      "    data = []\n",
      "    ids = []\n",
      "    for i, (id, img) in enumerate(load_test_data()):\n",
      "        ids.append(id)\n",
      "        data.append(img)\n",
      "        if i % 1000 == 0:\n",
      "            print i,\n",
      "\n",
      "    return (np.asarray(ids), np.asarray(data).reshape(-1, 1, IMG_SIZE, IMG_SIZE))\n",
      "\n",
      "ids, X_test = load_test()\n",
      "X_test.shape, X_test.dtype"
     ],
     "language": "python",
     "metadata": {},
     "outputs": [
      {
       "output_type": "stream",
       "stream": "stdout",
       "text": [
        "0 "
       ]
      },
      {
       "output_type": "stream",
       "stream": "stdout",
       "text": [
        "1000 "
       ]
      },
      {
       "output_type": "stream",
       "stream": "stdout",
       "text": [
        "2000 "
       ]
      },
      {
       "output_type": "stream",
       "stream": "stdout",
       "text": [
        "3000 "
       ]
      },
      {
       "output_type": "stream",
       "stream": "stdout",
       "text": [
        "4000 "
       ]
      },
      {
       "output_type": "stream",
       "stream": "stdout",
       "text": [
        "5000 "
       ]
      },
      {
       "output_type": "stream",
       "stream": "stdout",
       "text": [
        "6000 "
       ]
      },
      {
       "output_type": "stream",
       "stream": "stdout",
       "text": [
        "7000 "
       ]
      },
      {
       "output_type": "stream",
       "stream": "stdout",
       "text": [
        "8000 "
       ]
      },
      {
       "output_type": "stream",
       "stream": "stdout",
       "text": [
        "9000 "
       ]
      },
      {
       "output_type": "stream",
       "stream": "stdout",
       "text": [
        "10000 "
       ]
      },
      {
       "output_type": "stream",
       "stream": "stdout",
       "text": [
        "11000 "
       ]
      },
      {
       "output_type": "stream",
       "stream": "stdout",
       "text": [
        "12000 "
       ]
      },
      {
       "output_type": "stream",
       "stream": "stdout",
       "text": [
        "13000 "
       ]
      },
      {
       "output_type": "stream",
       "stream": "stdout",
       "text": [
        "14000 "
       ]
      },
      {
       "output_type": "stream",
       "stream": "stdout",
       "text": [
        "15000 "
       ]
      },
      {
       "output_type": "stream",
       "stream": "stdout",
       "text": [
        "16000 "
       ]
      },
      {
       "output_type": "stream",
       "stream": "stdout",
       "text": [
        "17000 "
       ]
      },
      {
       "output_type": "stream",
       "stream": "stdout",
       "text": [
        "18000 "
       ]
      },
      {
       "output_type": "stream",
       "stream": "stdout",
       "text": [
        "19000 "
       ]
      },
      {
       "output_type": "stream",
       "stream": "stdout",
       "text": [
        "20000 "
       ]
      },
      {
       "output_type": "stream",
       "stream": "stdout",
       "text": [
        "21000 "
       ]
      },
      {
       "output_type": "stream",
       "stream": "stdout",
       "text": [
        "22000 "
       ]
      },
      {
       "output_type": "stream",
       "stream": "stdout",
       "text": [
        "23000 "
       ]
      },
      {
       "output_type": "stream",
       "stream": "stdout",
       "text": [
        "24000 "
       ]
      },
      {
       "output_type": "stream",
       "stream": "stdout",
       "text": [
        "25000 "
       ]
      },
      {
       "output_type": "stream",
       "stream": "stdout",
       "text": [
        "26000 "
       ]
      },
      {
       "output_type": "stream",
       "stream": "stdout",
       "text": [
        "27000 "
       ]
      },
      {
       "output_type": "stream",
       "stream": "stdout",
       "text": [
        "28000 "
       ]
      },
      {
       "output_type": "stream",
       "stream": "stdout",
       "text": [
        "29000 "
       ]
      },
      {
       "output_type": "stream",
       "stream": "stdout",
       "text": [
        "30000 "
       ]
      },
      {
       "output_type": "stream",
       "stream": "stdout",
       "text": [
        "31000 "
       ]
      },
      {
       "output_type": "stream",
       "stream": "stdout",
       "text": [
        "32000 "
       ]
      },
      {
       "output_type": "stream",
       "stream": "stdout",
       "text": [
        "33000 "
       ]
      },
      {
       "output_type": "stream",
       "stream": "stdout",
       "text": [
        "34000 "
       ]
      },
      {
       "output_type": "stream",
       "stream": "stdout",
       "text": [
        "35000 "
       ]
      },
      {
       "output_type": "stream",
       "stream": "stdout",
       "text": [
        "36000 "
       ]
      },
      {
       "output_type": "stream",
       "stream": "stdout",
       "text": [
        "37000 "
       ]
      },
      {
       "output_type": "stream",
       "stream": "stdout",
       "text": [
        "38000 "
       ]
      },
      {
       "output_type": "stream",
       "stream": "stdout",
       "text": [
        "39000 "
       ]
      },
      {
       "output_type": "stream",
       "stream": "stdout",
       "text": [
        "40000 "
       ]
      },
      {
       "output_type": "stream",
       "stream": "stdout",
       "text": [
        "41000 "
       ]
      },
      {
       "output_type": "stream",
       "stream": "stdout",
       "text": [
        "42000 "
       ]
      },
      {
       "output_type": "stream",
       "stream": "stdout",
       "text": [
        "43000 "
       ]
      },
      {
       "output_type": "stream",
       "stream": "stdout",
       "text": [
        "44000 "
       ]
      },
      {
       "output_type": "stream",
       "stream": "stdout",
       "text": [
        "45000 "
       ]
      },
      {
       "output_type": "stream",
       "stream": "stdout",
       "text": [
        "46000 "
       ]
      },
      {
       "output_type": "stream",
       "stream": "stdout",
       "text": [
        "47000 "
       ]
      },
      {
       "output_type": "stream",
       "stream": "stdout",
       "text": [
        "48000 "
       ]
      },
      {
       "output_type": "stream",
       "stream": "stdout",
       "text": [
        "49000 "
       ]
      },
      {
       "output_type": "stream",
       "stream": "stdout",
       "text": [
        "50000 "
       ]
      },
      {
       "output_type": "stream",
       "stream": "stdout",
       "text": [
        "51000 "
       ]
      },
      {
       "output_type": "stream",
       "stream": "stdout",
       "text": [
        "52000 "
       ]
      },
      {
       "output_type": "stream",
       "stream": "stdout",
       "text": [
        "53000 "
       ]
      },
      {
       "output_type": "stream",
       "stream": "stdout",
       "text": [
        "54000 "
       ]
      },
      {
       "output_type": "stream",
       "stream": "stdout",
       "text": [
        "55000 "
       ]
      },
      {
       "output_type": "stream",
       "stream": "stdout",
       "text": [
        "56000 "
       ]
      },
      {
       "output_type": "stream",
       "stream": "stdout",
       "text": [
        "57000 "
       ]
      },
      {
       "output_type": "stream",
       "stream": "stdout",
       "text": [
        "58000 "
       ]
      },
      {
       "output_type": "stream",
       "stream": "stdout",
       "text": [
        "59000 "
       ]
      },
      {
       "output_type": "stream",
       "stream": "stdout",
       "text": [
        "60000 "
       ]
      },
      {
       "output_type": "stream",
       "stream": "stdout",
       "text": [
        "61000 "
       ]
      },
      {
       "output_type": "stream",
       "stream": "stdout",
       "text": [
        "62000 "
       ]
      },
      {
       "output_type": "stream",
       "stream": "stdout",
       "text": [
        "63000 "
       ]
      },
      {
       "output_type": "stream",
       "stream": "stdout",
       "text": [
        "64000 "
       ]
      },
      {
       "output_type": "stream",
       "stream": "stdout",
       "text": [
        "65000 "
       ]
      },
      {
       "output_type": "stream",
       "stream": "stdout",
       "text": [
        "66000 "
       ]
      },
      {
       "output_type": "stream",
       "stream": "stdout",
       "text": [
        "67000 "
       ]
      },
      {
       "output_type": "stream",
       "stream": "stdout",
       "text": [
        "68000 "
       ]
      },
      {
       "output_type": "stream",
       "stream": "stdout",
       "text": [
        "69000 "
       ]
      },
      {
       "output_type": "stream",
       "stream": "stdout",
       "text": [
        "70000 "
       ]
      },
      {
       "output_type": "stream",
       "stream": "stdout",
       "text": [
        "71000 "
       ]
      },
      {
       "output_type": "stream",
       "stream": "stdout",
       "text": [
        "72000 "
       ]
      },
      {
       "output_type": "stream",
       "stream": "stdout",
       "text": [
        "73000 "
       ]
      },
      {
       "output_type": "stream",
       "stream": "stdout",
       "text": [
        "74000 "
       ]
      },
      {
       "output_type": "stream",
       "stream": "stdout",
       "text": [
        "75000 "
       ]
      },
      {
       "output_type": "stream",
       "stream": "stdout",
       "text": [
        "76000 "
       ]
      },
      {
       "output_type": "stream",
       "stream": "stdout",
       "text": [
        "77000 "
       ]
      },
      {
       "output_type": "stream",
       "stream": "stdout",
       "text": [
        "78000 "
       ]
      },
      {
       "output_type": "stream",
       "stream": "stdout",
       "text": [
        "79000 "
       ]
      },
      {
       "output_type": "stream",
       "stream": "stdout",
       "text": [
        "80000 "
       ]
      },
      {
       "output_type": "stream",
       "stream": "stdout",
       "text": [
        "81000 "
       ]
      },
      {
       "output_type": "stream",
       "stream": "stdout",
       "text": [
        "82000 "
       ]
      },
      {
       "output_type": "stream",
       "stream": "stdout",
       "text": [
        "83000 "
       ]
      },
      {
       "output_type": "stream",
       "stream": "stdout",
       "text": [
        "84000 "
       ]
      },
      {
       "output_type": "stream",
       "stream": "stdout",
       "text": [
        "85000 "
       ]
      },
      {
       "output_type": "stream",
       "stream": "stdout",
       "text": [
        "86000 "
       ]
      },
      {
       "output_type": "stream",
       "stream": "stdout",
       "text": [
        "87000 "
       ]
      },
      {
       "output_type": "stream",
       "stream": "stdout",
       "text": [
        "88000 "
       ]
      },
      {
       "output_type": "stream",
       "stream": "stdout",
       "text": [
        "89000 "
       ]
      },
      {
       "output_type": "stream",
       "stream": "stdout",
       "text": [
        "90000 "
       ]
      },
      {
       "output_type": "stream",
       "stream": "stdout",
       "text": [
        "91000 "
       ]
      },
      {
       "output_type": "stream",
       "stream": "stdout",
       "text": [
        "92000 "
       ]
      },
      {
       "output_type": "stream",
       "stream": "stdout",
       "text": [
        "93000 "
       ]
      },
      {
       "output_type": "stream",
       "stream": "stdout",
       "text": [
        "94000 "
       ]
      },
      {
       "output_type": "stream",
       "stream": "stdout",
       "text": [
        "95000 "
       ]
      },
      {
       "output_type": "stream",
       "stream": "stdout",
       "text": [
        "96000 "
       ]
      },
      {
       "output_type": "stream",
       "stream": "stdout",
       "text": [
        "97000 "
       ]
      },
      {
       "output_type": "stream",
       "stream": "stdout",
       "text": [
        "98000 "
       ]
      },
      {
       "output_type": "stream",
       "stream": "stdout",
       "text": [
        "99000 "
       ]
      },
      {
       "output_type": "stream",
       "stream": "stdout",
       "text": [
        "100000 "
       ]
      },
      {
       "output_type": "stream",
       "stream": "stdout",
       "text": [
        "101000 "
       ]
      },
      {
       "output_type": "stream",
       "stream": "stdout",
       "text": [
        "102000 "
       ]
      },
      {
       "output_type": "stream",
       "stream": "stdout",
       "text": [
        "103000 "
       ]
      },
      {
       "output_type": "stream",
       "stream": "stdout",
       "text": [
        "104000 "
       ]
      },
      {
       "output_type": "stream",
       "stream": "stdout",
       "text": [
        "105000 "
       ]
      },
      {
       "output_type": "stream",
       "stream": "stdout",
       "text": [
        "106000 "
       ]
      },
      {
       "output_type": "stream",
       "stream": "stdout",
       "text": [
        "107000 "
       ]
      },
      {
       "output_type": "stream",
       "stream": "stdout",
       "text": [
        "108000 "
       ]
      },
      {
       "output_type": "stream",
       "stream": "stdout",
       "text": [
        "109000 "
       ]
      },
      {
       "output_type": "stream",
       "stream": "stdout",
       "text": [
        "110000 "
       ]
      },
      {
       "output_type": "stream",
       "stream": "stdout",
       "text": [
        "111000 "
       ]
      },
      {
       "output_type": "stream",
       "stream": "stdout",
       "text": [
        "112000 "
       ]
      },
      {
       "output_type": "stream",
       "stream": "stdout",
       "text": [
        "113000 "
       ]
      },
      {
       "output_type": "stream",
       "stream": "stdout",
       "text": [
        "114000 "
       ]
      },
      {
       "output_type": "stream",
       "stream": "stdout",
       "text": [
        "115000 "
       ]
      },
      {
       "output_type": "stream",
       "stream": "stdout",
       "text": [
        "116000 "
       ]
      },
      {
       "output_type": "stream",
       "stream": "stdout",
       "text": [
        "117000 "
       ]
      },
      {
       "output_type": "stream",
       "stream": "stdout",
       "text": [
        "118000 "
       ]
      },
      {
       "output_type": "stream",
       "stream": "stdout",
       "text": [
        "119000 "
       ]
      },
      {
       "output_type": "stream",
       "stream": "stdout",
       "text": [
        "120000 "
       ]
      },
      {
       "output_type": "stream",
       "stream": "stdout",
       "text": [
        "121000 "
       ]
      },
      {
       "output_type": "stream",
       "stream": "stdout",
       "text": [
        "122000 "
       ]
      },
      {
       "output_type": "stream",
       "stream": "stdout",
       "text": [
        "123000 "
       ]
      },
      {
       "output_type": "stream",
       "stream": "stdout",
       "text": [
        "124000 "
       ]
      },
      {
       "output_type": "stream",
       "stream": "stdout",
       "text": [
        "125000 "
       ]
      },
      {
       "output_type": "stream",
       "stream": "stdout",
       "text": [
        "126000 "
       ]
      },
      {
       "output_type": "stream",
       "stream": "stdout",
       "text": [
        "127000 "
       ]
      },
      {
       "output_type": "stream",
       "stream": "stdout",
       "text": [
        "128000 "
       ]
      },
      {
       "output_type": "stream",
       "stream": "stdout",
       "text": [
        "129000 "
       ]
      },
      {
       "output_type": "stream",
       "stream": "stdout",
       "text": [
        "130000"
       ]
      },
      {
       "metadata": {},
       "output_type": "pyout",
       "prompt_number": 148,
       "text": [
        "((130400, 1, 96, 96), dtype('float32'))"
       ]
      },
      {
       "output_type": "stream",
       "stream": "stdout",
       "text": [
        "\n"
       ]
      }
     ],
     "prompt_number": 148
    },
    {
     "cell_type": "code",
     "collapsed": false,
     "input": [
      "import math\n",
      "from random import random\n",
      "from skimage import transform\n",
      "\n",
      "def rotate(img, angle):\n",
      "    return transform.rotate(img, angle, resize=False)\n",
      "\n",
      "def randomize_image(img):\n",
      "    tf = transform.SimilarityTransform(scale=random() * 0.4 + 0.8,\n",
      "                                       translation=((random() * 3), (random() * 3)))\n",
      "    img = rotate(img, random() * 360)\n",
      "    return transform.warp(img, tf)\n",
      "\n",
      "img = imread('train/echinoderm_larva_pluteus_typeC/108510.jpg')\n",
      "img = pre_process(img)\n",
      "img = randomize_image(img)\n",
      "plt.imshow(img, cmap='gray')\n",
      "print img.shape, img.max(), img.min()"
     ],
     "language": "python",
     "metadata": {},
     "outputs": [
      {
       "output_type": "stream",
       "stream": "stdout",
       "text": [
        "(96, 96) 0.830131736399 0.0\n"
       ]
      },
      {
       "metadata": {},
       "output_type": "display_data",
       "png": "[encoded data removed]",
       "text": [
        "<matplotlib.figure.Figure at 0x7f64e1202c10>"
       ]
      }
     ],
     "prompt_number": 138
    },
    {
     "cell_type": "code",
     "collapsed": false,
     "input": [
      "img = imread('train/hydromedusae_narcomedusae/102836.jpg')\n",
      "plt.figure(figsize=(16, 5))\n",
      "for i in range(10):\n",
      "    plt.subplot(1, 10, i + 1)\n",
      "    plt.axis('off')\n",
      "    plt.imshow(randomize_image(pre_process(img)), cmap='gray')"
     ],
     "language": "python",
     "metadata": {},
     "outputs": [
      {
       "metadata": {},
       "output_type": "display_data",
       "png": "[encoded data removed]",
       "text": [
        "<matplotlib.figure.Figure at 0x7f64e19c7350>"
       ]
      }
     ],
     "prompt_number": 139
    },
    {
     "cell_type": "code",
     "collapsed": false,
     "input": [
      "plt.figure(figsize=(16, 5))\n",
      "for i in range(10):\n",
      "    plt.subplot(1, 10, i)\n",
      "    plt.axis('off')\n",
      "    plt.imshow(X_test[i][0], cmap='gray')"
     ],
     "language": "python",
     "metadata": {},
     "outputs": [
      {
       "metadata": {},
       "output_type": "display_data",
       "png": "[encoded data removed]",
       "text": [
        "<matplotlib.figure.Figure at 0x7f64e199c350>"
       ]
      }
     ],
     "prompt_number": 140
    },
    {
     "cell_type": "code",
     "collapsed": false,
     "input": [
      "import skimage.transform as transform\n",
      "import skimage\n",
      "\n",
      "def fast_warp(img, tf, output_shape=IMG_DIM, mode='nearest'):\n",
      "    \"\"\"\n",
      "    This wrapper function is about five times faster than skimage.transform.warp, for our use case.\n",
      "    \"\"\"\n",
      "    m = tf.params\n",
      "    img_wf = np.empty((output_shape[0], output_shape[1]), dtype='float32')\n",
      "    img_wf = skimage.transform._warps_cy._warp_fast(img, m, output_shape=output_shape, mode=mode)\n",
      "    return img_wf\n",
      "\n",
      "def random_perturbation_transform(zoom_range, rotation_range, shear_range, translation_range, do_flip=False):\n",
      "    # random shift [-4, 4] - shift no longer needs to be integer!\n",
      "    shift_x = np.random.uniform(*translation_range)\n",
      "    shift_y = np.random.uniform(*translation_range)\n",
      "    translation = (shift_x, shift_y)\n",
      "\n",
      "    # random rotation [0, 360]\n",
      "    rotation = np.random.uniform(*rotation_range) # there is no post-augmentation, so full rotations here!\n",
      "\n",
      "    # random shear [0, 5]\n",
      "    shear = np.random.uniform(low=shear_range[0], high=shear_range[1])\n",
      "\n",
      "    # random zoom [0.9, 1.1]\n",
      "    # zoom = np.random.uniform(*zoom_range)\n",
      "    log_zoom_range = [np.log(z) for z in zoom_range]\n",
      "    zoom = np.exp(np.random.uniform(*log_zoom_range)) # for a zoom factor this sampling approach makes more sense.\n",
      "    # the range should be multiplicatively symmetric, so [1/1.1, 1.1] instead of [0.9, 1.1] makes more sense.\n",
      "\n",
      "    # flip\n",
      "    if do_flip:\n",
      "        shear += 180\n",
      "        rotation += 180\n",
      "\n",
      "    return build_augmentation_transform(zoom, rotation, shear, translation)\n",
      "\n",
      "\n",
      "def build_augmentation_transform(zoom=1.0, rotation=0, shear=0, translation=(0, 0)):\n",
      "    center_shift = np.array(IMG_DIM) / 2. - 0.5\n",
      "    tform_center = transform.SimilarityTransform(translation=-center_shift)\n",
      "    tform_uncenter = transform.SimilarityTransform(translation=center_shift)\n",
      "\n",
      "    tform_augment = transform.AffineTransform(scale=(1/zoom, 1/zoom), \n",
      "                                              rotation=np.deg2rad(rotation), \n",
      "                                              shear=np.deg2rad(shear), \n",
      "                                              translation=translation)\n",
      "    tform = tform_center + tform_augment + tform_uncenter \n",
      "    return tform\n",
      "\n",
      "\n",
      "augmentation_params = {\n",
      "            'zoom_range': (1.0, 1.1),\n",
      "            'rotation_range': (0, 360),\n",
      "            'shear_range': (0, 5),\n",
      "            'translation_range': (-4, 4),\n",
      "        }\n",
      "\n",
      "def transform_randomly(X, plot = False):\n",
      "    X = X.copy()\n",
      "    tform_augment = random_perturbation_transform(**augmentation_params)\n",
      "    tform_identity = skimage.transform.AffineTransform()\n",
      "    tform_ds = skimage.transform.AffineTransform()\n",
      "\n",
      "    for i in range(X.shape[0]):\n",
      "        new = fast_warp(X[i][0], tform_ds + tform_augment + tform_identity, \n",
      "                             output_shape=IMG_DIM, mode='nearest').astype('float32')\n",
      "        X[i,:] = new\n",
      "\n",
      "    return X"
     ],
     "language": "python",
     "metadata": {},
     "outputs": [],
     "prompt_number": 141
    },
    {
     "cell_type": "code",
     "collapsed": false,
     "input": [
      "from nolearn.lasagne import BatchIterator\n",
      "\n",
      "class FlipBatchIterator(BatchIterator):\n",
      "    def transform(self, Xb, yb):\n",
      "        #Xb = Xb.copy()\n",
      "        Xb, yb = super(FlipBatchIterator, self).transform(Xb, yb)\n",
      "        #print 'shape', Xb.shape, Xb.min(), Xb.max()\n",
      "\n",
      "        #bs = Xb.shape[0]\n",
      "        #indices = np.random.choice(bs, bs / 2, replace=False)\n",
      "        #Xb[indices] = Xb[indices, :, :, ::-1]\n",
      "        #indices = np.random.choice(bs, bs / 2, replace=False)\n",
      "        #Xb[indices] = Xb[indices, :, ::-1, :]\n",
      "        \n",
      "        #for i in range(bs):\n",
      "        #    Xb[i][0] = randomize_image(Xb[i][0])\n",
      "        #Xb += X_mean\n",
      "        Xb = transform_randomly(Xb)\n",
      "        #Xb -= X_mean\n",
      "        \n",
      "        return Xb, yb"
     ],
     "language": "python",
     "metadata": {},
     "outputs": [],
     "prompt_number": 142
    },
    {
     "cell_type": "code",
     "collapsed": false,
     "input": [
      "import lasagne \n",
      "net2 = NeuralNet(\n",
      "    layers=[\n",
      "        ('input', layers.InputLayer),\n",
      "        ('conv1', Conv2DLayer),\n",
      "        ('pool1', MaxPool2DLayer),\n",
      "        ('conv2', Conv2DLayer),\n",
      "        ('conv3', Conv2DLayer),\n",
      "        ('pool3', MaxPool2DLayer),\n",
      "        ('hidden1', layers.DenseLayer),\n",
      "        ('dropout1', layers.DropoutLayer),\n",
      "        ('hidden2', layers.DenseLayer),\n",
      "        ('dropout2', layers.DropoutLayer),\n",
      "        ('hidden3', layers.DenseLayer),\n",
      "        ('dropout3', layers.DropoutLayer),\n",
      "        ('output', layers.DenseLayer),\n",
      "        ],\n",
      "    input_shape=(None, 1, IMG_SIZE, IMG_SIZE),\n",
      "\n",
      "    conv1_num_filters=128, \n",
      "    conv1_filter_size=(5, 5), \n",
      "    conv1_pad=2, \n",
      "    conv1_strides=(4,4), \n",
      "    conv1_nonlinearity=lasagne.nonlinearities.rectify, \n",
      "\n",
      "    pool1_ds=(3, 3),\n",
      "    pool1_strides=(2,2),\n",
      "\n",
      "    conv2_num_filters=128, \n",
      "    conv2_filter_size=(3, 3), \n",
      "    conv2_pad=2, \n",
      "    conv2_nonlinearity=lasagne.nonlinearities.rectify,\n",
      "\n",
      "    conv3_num_filters=256, \n",
      "    conv3_filter_size=(3, 3),\n",
      "    conv3_pad=1, \n",
      "    conv3_nonlinearity=lasagne.nonlinearities.rectify, \n",
      "\n",
      "    pool3_ds=(3, 3),\n",
      "    pool3_strides=(2,2),\n",
      "\n",
      "    hidden1_num_units=512,\n",
      "    hidden1_nonlinearity=lasagne.nonlinearities.rectify,\n",
      "\n",
      "    dropout1_p=0.3,\n",
      "\n",
      "    hidden2_num_units=1024,\n",
      "    hidden2_nonlinearity=lasagne.nonlinearities.rectify, \n",
      "\n",
      "    dropout2_p=0.5,\n",
      "\n",
      "    hidden3_num_units=1024,\n",
      "    hidden3_nonlinearity=lasagne.nonlinearities.rectify, \n",
      "\n",
      "    dropout3_p=0.5,\n",
      "\n",
      "    output_num_units=121, \n",
      "    output_nonlinearity=lasagne.nonlinearities.softmax,\n",
      "\n",
      "    update_learning_rate=theano.shared(float32(0.01)),\n",
      "    update_momentum=theano.shared(float32(0.9)),\n",
      "\n",
      "    regression=False,\n",
      "    #loss=lasagne.objectives.multinomial_nll,\n",
      "    use_label_encoder=True,\n",
      "    batch_iterator_train=FlipBatchIterator(batch_size=256),\n",
      "    \n",
      "    on_epoch_finished=[\n",
      "        AdjustVariable('update_learning_rate', start=0.01, stop=0.0001),\n",
      "        AdjustVariable('update_momentum', start=0.9, stop=0.999),\n",
      "        EarlyStopping(patience=50),\n",
      "        #SavePoint(interval=10, after=150)\n",
      "        ],\n",
      "    max_epochs=500,\n",
      "    verbose=2,\n",
      "    test_size=0.1\n",
      "    )\n",
      "\n",
      "net2.fit(X, y)"
     ],
     "language": "python",
     "metadata": {},
     "outputs": [
      {
       "output_type": "stream",
       "stream": "stdout",
       "text": [
        "  InputLayer        \t(None, 1, 96, 96)   \tproduces    9216 outputs\n",
        "  Conv2DCCLayer     \t(None, 128, 24, 24) \tproduces   73728 outputs\n",
        "  MaxPool2DCCLayer  \t(None, 128, 12, 12) \tproduces   18432 outputs\n",
        "  Conv2DCCLayer     \t(None, 128, 14, 14) \tproduces   25088 outputs\n",
        "  Conv2DCCLayer     \t(None, 256, 14, 14) \tproduces   50176 outputs\n",
        "  MaxPool2DCCLayer  \t(None, 256, 7, 7)   \tproduces   12544 outputs\n",
        "  DenseLayer        \t(None, 512)         \tproduces     512 outputs\n",
        "  DropoutLayer      \t(None, 512)         \tproduces     512 outputs\n",
        "  DenseLayer        \t(None, 1024)        \tproduces    1024 outputs\n",
        "  DropoutLayer      \t(None, 1024)        \tproduces    1024 outputs\n",
        "  DenseLayer        \t(None, 1024)        \tproduces    1024 outputs\n",
        "  DropoutLayer      \t(None, 1024)        \tproduces    1024 outputs\n",
        "  DenseLayer        \t(None, 121)         \tproduces     121 outputs\n",
        "\n",
        " Epoch  |  Train loss  |  Valid loss  |  Train / Val  |  Valid acc  |  Dur\n",
        "--------|--------------|--------------|---------------|-------------|-------"
       ]
      },
      {
       "output_type": "stream",
       "stream": "stdout",
       "text": [
        "\n",
        "     1  |  \u001b[94m  4.514816\u001b[0m  |  \u001b[32m  4.163301\u001b[0m  |     1.084432  |      8.27%  |  49.5s"
       ]
      },
      {
       "output_type": "stream",
       "stream": "stdout",
       "text": [
        "\n",
        "     2  |  \u001b[94m  3.980086\u001b[0m  |  \u001b[32m  3.597655\u001b[0m  |     1.106300  |     16.93%  |  49.5s"
       ]
      },
      {
       "output_type": "stream",
       "stream": "stdout",
       "text": [
        "\n",
        "     3  |  \u001b[94m  3.567194\u001b[0m  |  \u001b[32m  3.284719\u001b[0m  |     1.085997  |     21.65%  |  49.4s"
       ]
      },
      {
       "output_type": "stream",
       "stream": "stdout",
       "text": [
        "\n",
        "     4  |  \u001b[94m  3.315604\u001b[0m  |  \u001b[32m  3.060953\u001b[0m  |     1.083193  |     26.87%  |  49.4s"
       ]
      },
      {
       "output_type": "stream",
       "stream": "stdout",
       "text": [
        "\n",
        "     5  |  \u001b[94m  3.099026\u001b[0m  |  \u001b[32m  2.872228\u001b[0m  |     1.078962  |     28.84%  |  49.5s"
       ]
      },
      {
       "output_type": "stream",
       "stream": "stdout",
       "text": [
        "\n",
        "     6  |  \u001b[94m  2.910819\u001b[0m  |  \u001b[32m  2.697009\u001b[0m  |     1.079277  |     29.85%  |  49.7s"
       ]
      },
      {
       "output_type": "stream",
       "stream": "stdout",
       "text": [
        "\n",
        "     7  |  \u001b[94m  2.821706\u001b[0m  |  \u001b[32m  2.616247\u001b[0m  |     1.078532  |     31.24%  |  49.5s"
       ]
      },
      {
       "output_type": "stream",
       "stream": "stdout",
       "text": [
        "\n",
        "     8  |  \u001b[94m  2.703946\u001b[0m  |  \u001b[32m  2.498064\u001b[0m  |     1.082417  |     33.68%  |  49.4s"
       ]
      },
      {
       "output_type": "stream",
       "stream": "stdout",
       "text": [
        "\n",
        "     9  |  \u001b[94m  2.616390\u001b[0m  |    2.512062  |     1.041531  |     32.31%  |  49.4s"
       ]
      },
      {
       "output_type": "stream",
       "stream": "stdout",
       "text": [
        "\n",
        "    10  |  \u001b[94m  2.549234\u001b[0m  |  \u001b[32m  2.428952\u001b[0m  |     1.049520  |     34.68%  |  49.4s"
       ]
      },
      {
       "output_type": "stream",
       "stream": "stdout",
       "text": [
        "\n",
        "    11  |  \u001b[94m  2.491193\u001b[0m  |  \u001b[32m  2.337574\u001b[0m  |     1.065717  |     36.35%  |  49.4s"
       ]
      },
      {
       "output_type": "stream",
       "stream": "stdout",
       "text": [
        "\n",
        "    12  |  \u001b[94m  2.422464\u001b[0m  |  \u001b[32m  2.215787\u001b[0m  |     1.093275  |     39.40%  |  49.4s"
       ]
      },
      {
       "output_type": "stream",
       "stream": "stdout",
       "text": [
        "\n",
        "    13  |  \u001b[94m  2.366790\u001b[0m  |  \u001b[32m  2.208795\u001b[0m  |     1.071530  |     38.61%  |  49.5s"
       ]
      },
      {
       "output_type": "stream",
       "stream": "stdout",
       "text": [
        "\n",
        "    14  |  \u001b[94m  2.308735\u001b[0m  |  \u001b[32m  2.175928\u001b[0m  |     1.061035  |     39.54%  |  49.5s"
       ]
      },
      {
       "output_type": "stream",
       "stream": "stdout",
       "text": [
        "\n",
        "    15  |  \u001b[94m  2.265619\u001b[0m  |  \u001b[32m  2.120879\u001b[0m  |     1.068245  |     40.65%  |  49.4s"
       ]
      },
      {
       "output_type": "stream",
       "stream": "stdout",
       "text": [
        "\n",
        "    16  |  \u001b[94m  2.221924\u001b[0m  |  \u001b[32m  2.070891\u001b[0m  |     1.072931  |     42.37%  |  49.4s"
       ]
      },
      {
       "output_type": "stream",
       "stream": "stdout",
       "text": [
        "\n",
        "    17  |  \u001b[94m  2.183815\u001b[0m  |    2.083005  |     1.048396  |     42.21%  |  49.4s"
       ]
      },
      {
       "output_type": "stream",
       "stream": "stdout",
       "text": [
        "\n",
        "    18  |  \u001b[94m  2.132203\u001b[0m  |  \u001b[32m  2.009348\u001b[0m  |     1.061142  |     42.72%  |  49.5s"
       ]
      },
      {
       "output_type": "stream",
       "stream": "stdout",
       "text": [
        "\n",
        "    19  |  \u001b[94m  2.100908\u001b[0m  |    2.011510  |     1.044443  |     43.03%  |  49.4s"
       ]
      },
      {
       "output_type": "stream",
       "stream": "stdout",
       "text": [
        "\n",
        "    20  |  \u001b[94m  2.076659\u001b[0m  |  \u001b[32m  1.900964\u001b[0m  |     1.092424  |     45.94%  |  49.4s"
       ]
      },
      {
       "output_type": "stream",
       "stream": "stdout",
       "text": [
        "\n",
        "    21  |  \u001b[94m  2.037948\u001b[0m  |    1.920455  |     1.061180  |     45.34%  |  49.4s"
       ]
      },
      {
       "output_type": "stream",
       "stream": "stdout",
       "text": [
        "\n",
        "    22  |  \u001b[94m  2.018811\u001b[0m  |  \u001b[32m  1.872297\u001b[0m  |     1.078253  |     46.65%  |  49.5s"
       ]
      },
      {
       "output_type": "stream",
       "stream": "stdout",
       "text": [
        "\n",
        "    23  |  \u001b[94m  1.967410\u001b[0m  |  \u001b[32m  1.841147\u001b[0m  |     1.068579  |     47.85%  |  49.4s"
       ]
      },
      {
       "output_type": "stream",
       "stream": "stdout",
       "text": [
        "\n",
        "    24  |  \u001b[94m  1.942533\u001b[0m  |  \u001b[32m  1.810295\u001b[0m  |     1.073048  |     47.55%  |  49.5s"
       ]
      },
      {
       "output_type": "stream",
       "stream": "stdout",
       "text": [
        "\n",
        "    25  |  \u001b[94m  1.921008\u001b[0m  |    1.832116  |     1.048519  |     46.90%  |  49.4s"
       ]
      },
      {
       "output_type": "stream",
       "stream": "stdout",
       "text": [
        "\n",
        "    26  |  \u001b[94m  1.905511\u001b[0m  |  \u001b[32m  1.769671\u001b[0m  |     1.076760  |     48.84%  |  49.4s"
       ]
      },
      {
       "output_type": "stream",
       "stream": "stdout",
       "text": [
        "\n",
        "    27  |  \u001b[94m  1.871097\u001b[0m  |  \u001b[32m  1.755242\u001b[0m  |     1.066005  |     49.27%  |  49.5s"
       ]
      },
      {
       "output_type": "stream",
       "stream": "stdout",
       "text": [
        "\n",
        "    28  |  \u001b[94m  1.849135\u001b[0m  |  \u001b[32m  1.720815\u001b[0m  |     1.074569  |     50.50%  |  49.4s"
       ]
      },
      {
       "output_type": "stream",
       "stream": "stdout",
       "text": [
        "\n",
        "    29  |  \u001b[94m  1.819282\u001b[0m  |  \u001b[32m  1.692050\u001b[0m  |     1.075194  |     51.02%  |  49.5s"
       ]
      },
      {
       "output_type": "stream",
       "stream": "stdout",
       "text": [
        "\n",
        "    30  |  \u001b[94m  1.812130\u001b[0m  |    1.743172  |     1.039559  |     49.66%  |  49.5s"
       ]
      },
      {
       "output_type": "stream",
       "stream": "stdout",
       "text": [
        "\n",
        "    31  |  \u001b[94m  1.793987\u001b[0m  |  \u001b[32m  1.666084\u001b[0m  |     1.076768  |     51.08%  |  49.4s"
       ]
      },
      {
       "output_type": "stream",
       "stream": "stdout",
       "text": [
        "\n",
        "    32  |  \u001b[94m  1.776803\u001b[0m  |  \u001b[32m  1.634412\u001b[0m  |     1.087121  |     52.22%  |  49.5s"
       ]
      },
      {
       "output_type": "stream",
       "stream": "stdout",
       "text": [
        "\n",
        "    33  |  \u001b[94m  1.750452\u001b[0m  |    1.658430  |     1.055488  |     51.63%  |  49.4s"
       ]
      },
      {
       "output_type": "stream",
       "stream": "stdout",
       "text": [
        "\n",
        "    34  |  \u001b[94m  1.742827\u001b[0m  |  \u001b[32m  1.563013\u001b[0m  |     1.115043  |     54.19%  |  49.4s"
       ]
      },
      {
       "output_type": "stream",
       "stream": "stdout",
       "text": [
        "\n",
        "    35  |  \u001b[94m  1.711854\u001b[0m  |    1.563566  |     1.094839  |     53.69%  |  49.4s"
       ]
      },
      {
       "output_type": "stream",
       "stream": "stdout",
       "text": [
        "\n",
        "    36  |  \u001b[94m  1.698909\u001b[0m  |    1.568497  |     1.083145  |     54.32%  |  49.4s"
       ]
      },
      {
       "output_type": "stream",
       "stream": "stdout",
       "text": [
        "\n",
        "    37  |  \u001b[94m  1.682404\u001b[0m  |  \u001b[32m  1.561713\u001b[0m  |     1.077281  |     54.15%  |  49.4s"
       ]
      },
      {
       "output_type": "stream",
       "stream": "stdout",
       "text": [
        "\n",
        "    38  |  \u001b[94m  1.670981\u001b[0m  |  \u001b[32m  1.534934\u001b[0m  |     1.088634  |     55.15%  |  49.4s"
       ]
      },
      {
       "output_type": "stream",
       "stream": "stdout",
       "text": [
        "\n",
        "    39  |  \u001b[94m  1.652180\u001b[0m  |  \u001b[32m  1.513844\u001b[0m  |     1.091381  |     55.01%  |  49.5s"
       ]
      },
      {
       "output_type": "stream",
       "stream": "stdout",
       "text": [
        "\n",
        "    40  |  \u001b[94m  1.641673\u001b[0m  |    1.533495  |     1.070543  |     54.49%  |  49.4s"
       ]
      },
      {
       "output_type": "stream",
       "stream": "stdout",
       "text": [
        "\n",
        "    41  |  \u001b[94m  1.633144\u001b[0m  |    1.561326  |     1.045998  |     54.19%  |  49.4s"
       ]
      },
      {
       "output_type": "stream",
       "stream": "stdout",
       "text": [
        "\n",
        "    42  |  \u001b[94m  1.615360\u001b[0m  |  \u001b[32m  1.474950\u001b[0m  |     1.095196  |     56.76%  |  49.5s"
       ]
      },
      {
       "output_type": "stream",
       "stream": "stdout",
       "text": [
        "\n",
        "    43  |  \u001b[94m  1.597133\u001b[0m  |    1.485237  |     1.075339  |     56.76%  |  49.4s"
       ]
      },
      {
       "output_type": "stream",
       "stream": "stdout",
       "text": [
        "\n",
        "    44  |  \u001b[94m  1.593419\u001b[0m  |    1.486545  |     1.071894  |     56.42%  |  49.5s"
       ]
      },
      {
       "output_type": "stream",
       "stream": "stdout",
       "text": [
        "\n",
        "    45  |  \u001b[94m  1.561915\u001b[0m  |  \u001b[32m  1.470089\u001b[0m  |     1.062463  |     57.16%  |  49.4s"
       ]
      },
      {
       "output_type": "stream",
       "stream": "stdout",
       "text": [
        "\n",
        "    46  |  \u001b[94m  1.554206\u001b[0m  |  \u001b[32m  1.424547\u001b[0m  |     1.091017  |     58.14%  |  49.4s"
       ]
      },
      {
       "output_type": "stream",
       "stream": "stdout",
       "text": [
        "\n",
        "    47  |  \u001b[94m  1.549561\u001b[0m  |    1.440954  |     1.075372  |     57.50%  |  49.5s"
       ]
      },
      {
       "output_type": "stream",
       "stream": "stdout",
       "text": [
        "\n",
        "    48  |  \u001b[94m  1.532824\u001b[0m  |    1.434566  |     1.068493  |     57.32%  |  49.4s"
       ]
      },
      {
       "output_type": "stream",
       "stream": "stdout",
       "text": [
        "\n",
        "    49  |  \u001b[94m  1.516609\u001b[0m  |    1.440470  |     1.052857  |     57.80%  |  49.5s"
       ]
      },
      {
       "output_type": "stream",
       "stream": "stdout",
       "text": [
        "\n",
        "    50  |  \u001b[94m  1.506098\u001b[0m  |  \u001b[32m  1.389755\u001b[0m  |     1.083715  |     59.09%  |  49.4s"
       ]
      },
      {
       "output_type": "stream",
       "stream": "stdout",
       "text": [
        "\n",
        "    51  |  \u001b[94m  1.491354\u001b[0m  |    1.414077  |     1.054649  |     58.27%  |  49.4s"
       ]
      },
      {
       "output_type": "stream",
       "stream": "stdout",
       "text": [
        "\n",
        "    52  |  \u001b[94m  1.483318\u001b[0m  |    1.390689  |     1.066607  |     58.30%  |  49.4s"
       ]
      },
      {
       "output_type": "stream",
       "stream": "stdout",
       "text": [
        "\n",
        "    53  |  \u001b[94m  1.467695\u001b[0m  |  \u001b[32m  1.367602\u001b[0m  |     1.073188  |     59.12%  |  49.4s"
       ]
      },
      {
       "output_type": "stream",
       "stream": "stdout",
       "text": [
        "\n",
        "    54  |  \u001b[94m  1.452139\u001b[0m  |  \u001b[32m  1.332706\u001b[0m  |     1.089617  |     60.34%  |  49.4s"
       ]
      },
      {
       "output_type": "stream",
       "stream": "stdout",
       "text": [
        "\n",
        "    55  |  \u001b[94m  1.446781\u001b[0m  |    1.362945  |     1.061511  |     59.53%  |  49.4s"
       ]
      },
      {
       "output_type": "stream",
       "stream": "stdout",
       "text": [
        "\n",
        "    56  |  \u001b[94m  1.431749\u001b[0m  |    1.339082  |     1.069202  |     59.51%  |  49.4s"
       ]
      },
      {
       "output_type": "stream",
       "stream": "stdout",
       "text": [
        "\n",
        "    57  |  \u001b[94m  1.430642\u001b[0m  |  \u001b[32m  1.317417\u001b[0m  |     1.085945  |     60.37%  |  49.4s"
       ]
      },
      {
       "output_type": "stream",
       "stream": "stdout",
       "text": [
        "\n",
        "    58  |  \u001b[94m  1.419246\u001b[0m  |    1.328529  |     1.068284  |     59.43%  |  49.5s"
       ]
      },
      {
       "output_type": "stream",
       "stream": "stdout",
       "text": [
        "\n",
        "    59  |  \u001b[94m  1.398970\u001b[0m  |  \u001b[32m  1.301874\u001b[0m  |     1.074582  |     60.64%  |  49.5s"
       ]
      },
      {
       "output_type": "stream",
       "stream": "stdout",
       "text": [
        "\n",
        "    60  |  \u001b[94m  1.385206\u001b[0m  |  \u001b[32m  1.287436\u001b[0m  |     1.075942  |     60.89%  |  49.4s"
       ]
      },
      {
       "output_type": "stream",
       "stream": "stdout",
       "text": [
        "\n",
        "    61  |  \u001b[94m  1.377407\u001b[0m  |    1.355822  |     1.015920  |     59.37%  |  49.5s"
       ]
      },
      {
       "output_type": "stream",
       "stream": "stdout",
       "text": [
        "\n",
        "    62  |  \u001b[94m  1.372244\u001b[0m  |  \u001b[32m  1.283601\u001b[0m  |     1.069058  |     60.47%  |  49.4s"
       ]
      },
      {
       "output_type": "stream",
       "stream": "stdout",
       "text": [
        "\n",
        "    63  |  \u001b[94m  1.363415\u001b[0m  |    1.304996  |     1.044766  |     60.41%  |  49.4s"
       ]
      },
      {
       "output_type": "stream",
       "stream": "stdout",
       "text": [
        "\n",
        "    64  |    1.363615  |  \u001b[32m  1.266258\u001b[0m  |     1.076885  |     61.52%  |  49.4s"
       ]
      },
      {
       "output_type": "stream",
       "stream": "stdout",
       "text": [
        "\n",
        "    65  |  \u001b[94m  1.344508\u001b[0m  |    1.276009  |     1.053682  |     61.16%  |  49.4s"
       ]
      },
      {
       "output_type": "stream",
       "stream": "stdout",
       "text": [
        "\n",
        "    66  |    1.349081  |    1.292838  |     1.043503  |     60.92%  |  49.4s"
       ]
      },
      {
       "output_type": "stream",
       "stream": "stdout",
       "text": [
        "\n",
        "    67  |  \u001b[94m  1.333125\u001b[0m  |  \u001b[32m  1.252468\u001b[0m  |     1.064398  |     61.63%  |  49.4s"
       ]
      },
      {
       "output_type": "stream",
       "stream": "stdout",
       "text": [
        "\n",
        "    68  |  \u001b[94m  1.322692\u001b[0m  |  \u001b[32m  1.252394\u001b[0m  |     1.056131  |     61.88%  |  49.4s"
       ]
      },
      {
       "output_type": "stream",
       "stream": "stdout",
       "text": [
        "\n",
        "    69  |  \u001b[94m  1.319835\u001b[0m  |  \u001b[32m  1.241417\u001b[0m  |     1.063169  |     61.86%  |  49.4s"
       ]
      },
      {
       "output_type": "stream",
       "stream": "stdout",
       "text": [
        "\n",
        "    70  |  \u001b[94m  1.319091\u001b[0m  |  \u001b[32m  1.222712\u001b[0m  |     1.078824  |     62.63%  |  49.4s"
       ]
      },
      {
       "output_type": "stream",
       "stream": "stdout",
       "text": [
        "\n",
        "    71  |  \u001b[94m  1.296077\u001b[0m  |  \u001b[32m  1.212942\u001b[0m  |     1.068540  |     63.10%  |  49.4s"
       ]
      },
      {
       "output_type": "stream",
       "stream": "stdout",
       "text": [
        "\n",
        "    72  |    1.297146  |  \u001b[32m  1.209261\u001b[0m  |     1.072677  |     62.80%  |  49.4s"
       ]
      },
      {
       "output_type": "stream",
       "stream": "stdout",
       "text": [
        "\n",
        "    73  |  \u001b[94m  1.291823\u001b[0m  |  \u001b[32m  1.204978\u001b[0m  |     1.072072  |     62.76%  |  49.4s"
       ]
      },
      {
       "output_type": "stream",
       "stream": "stdout",
       "text": [
        "\n",
        "    74  |  \u001b[94m  1.278415\u001b[0m  |    1.220816  |     1.047181  |     62.70%  |  49.4s"
       ]
      },
      {
       "output_type": "stream",
       "stream": "stdout",
       "text": [
        "\n",
        "    75  |  \u001b[94m  1.272310\u001b[0m  |  \u001b[32m  1.190547\u001b[0m  |     1.068677  |     64.07%  |  49.4s"
       ]
      },
      {
       "output_type": "stream",
       "stream": "stdout",
       "text": [
        "\n",
        "    76  |  \u001b[94m  1.262495\u001b[0m  |  \u001b[32m  1.176762\u001b[0m  |     1.072855  |     64.41%  |  49.4s"
       ]
      },
      {
       "output_type": "stream",
       "stream": "stdout",
       "text": [
        "\n",
        "    77  |  \u001b[94m  1.254775\u001b[0m  |    1.195535  |     1.049551  |     63.75%  |  49.4s"
       ]
      },
      {
       "output_type": "stream",
       "stream": "stdout",
       "text": [
        "\n",
        "    78  |  \u001b[94m  1.247010\u001b[0m  |    1.215342  |     1.026057  |     63.13%  |  49.4s"
       ]
      },
      {
       "output_type": "stream",
       "stream": "stdout",
       "text": [
        "\n",
        "    79  |    1.253050  |  \u001b[32m  1.172953\u001b[0m  |     1.068287  |     64.25%  |  49.4s"
       ]
      },
      {
       "output_type": "stream",
       "stream": "stdout",
       "text": [
        "\n",
        "    80  |  \u001b[94m  1.235529\u001b[0m  |  \u001b[32m  1.167482\u001b[0m  |     1.058286  |     64.17%  |  49.4s"
       ]
      },
      {
       "output_type": "stream",
       "stream": "stdout",
       "text": [
        "\n",
        "    81  |  \u001b[94m  1.227560\u001b[0m  |  \u001b[32m  1.155867\u001b[0m  |     1.062025  |     64.68%  |  49.4s"
       ]
      },
      {
       "output_type": "stream",
       "stream": "stdout",
       "text": [
        "\n",
        "    82  |  \u001b[94m  1.222169\u001b[0m  |  \u001b[32m  1.151243\u001b[0m  |     1.061608  |     64.90%  |  49.4s"
       ]
      },
      {
       "output_type": "stream",
       "stream": "stdout",
       "text": [
        "\n",
        "    83  |    1.222224  |  \u001b[32m  1.131508\u001b[0m  |     1.080172  |     65.53%  |  49.4s"
       ]
      },
      {
       "output_type": "stream",
       "stream": "stdout",
       "text": [
        "\n",
        "    84  |  \u001b[94m  1.204587\u001b[0m  |    1.143734  |     1.053206  |     64.70%  |  49.4s"
       ]
      },
      {
       "output_type": "stream",
       "stream": "stdout",
       "text": [
        "\n",
        "    85  |    1.207969  |    1.139976  |     1.059644  |     65.00%  |  49.4s"
       ]
      },
      {
       "output_type": "stream",
       "stream": "stdout",
       "text": [
        "\n",
        "    86  |  \u001b[94m  1.199705\u001b[0m  |    1.156605  |     1.037264  |     64.44%  |  49.4s"
       ]
      },
      {
       "output_type": "stream",
       "stream": "stdout",
       "text": [
        "\n",
        "    87  |    1.202236  |    1.136478  |     1.057861  |     65.82%  |  49.4s"
       ]
      },
      {
       "output_type": "stream",
       "stream": "stdout",
       "text": [
        "\n",
        "    88  |  \u001b[94m  1.183083\u001b[0m  |  \u001b[32m  1.120658\u001b[0m  |     1.055705  |     65.63%  |  49.4s"
       ]
      },
      {
       "output_type": "stream",
       "stream": "stdout",
       "text": [
        "\n",
        "    89  |  \u001b[94m  1.182217\u001b[0m  |    1.133777  |     1.042724  |     65.14%  |  49.4s"
       ]
      },
      {
       "output_type": "stream",
       "stream": "stdout",
       "text": [
        "\n",
        "    90  |  \u001b[94m  1.172806\u001b[0m  |    1.126961  |     1.040680  |     65.63%  |  49.4s"
       ]
      },
      {
       "output_type": "stream",
       "stream": "stdout",
       "text": [
        "\n",
        "    91  |  \u001b[94m  1.169853\u001b[0m  |    1.135410  |     1.030335  |     65.51%  |  49.4s"
       ]
      },
      {
       "output_type": "stream",
       "stream": "stdout",
       "text": [
        "\n",
        "    92  |  \u001b[94m  1.168894\u001b[0m  |    1.122702  |     1.041143  |     65.59%  |  49.4s"
       ]
      },
      {
       "output_type": "stream",
       "stream": "stdout",
       "text": [
        "\n",
        "    93  |  \u001b[94m  1.157378\u001b[0m  |    1.134094  |     1.020531  |     65.09%  |  49.4s"
       ]
      },
      {
       "output_type": "stream",
       "stream": "stdout",
       "text": [
        "\n",
        "    94  |    1.160542  |  \u001b[32m  1.110024\u001b[0m  |     1.045511  |     66.03%  |  49.4s"
       ]
      },
      {
       "output_type": "stream",
       "stream": "stdout",
       "text": [
        "\n",
        "    95  |  \u001b[94m  1.145131\u001b[0m  |    1.111658  |     1.030111  |     66.05%  |  49.4s"
       ]
      },
      {
       "output_type": "stream",
       "stream": "stdout",
       "text": [
        "\n",
        "    96  |    1.166569  |    1.112682  |     1.048430  |     65.72%  |  49.4s"
       ]
      },
      {
       "output_type": "stream",
       "stream": "stdout",
       "text": [
        "\n",
        "    97  |  \u001b[94m  1.140121\u001b[0m  |  \u001b[32m  1.094416\u001b[0m  |     1.041762  |     66.60%  |  49.4s"
       ]
      },
      {
       "output_type": "stream",
       "stream": "stdout",
       "text": [
        "\n",
        "    98  |  \u001b[94m  1.136276\u001b[0m  |    1.109716  |     1.023934  |     65.88%  |  49.4s"
       ]
      },
      {
       "output_type": "stream",
       "stream": "stdout",
       "text": [
        "\n",
        "    99  |  \u001b[94m  1.129624\u001b[0m  |  \u001b[32m  1.085541\u001b[0m  |     1.040609  |     67.23%  |  49.4s"
       ]
      },
      {
       "output_type": "stream",
       "stream": "stdout",
       "text": [
        "\n",
        "   100  |  \u001b[94m  1.128190\u001b[0m  |    1.098800  |     1.026747  |     66.54%  |  49.4s"
       ]
      },
      {
       "output_type": "stream",
       "stream": "stdout",
       "text": [
        "\n",
        "   101  |  \u001b[94m  1.121748\u001b[0m  |    1.105049  |     1.015112  |     66.31%  |  49.4s"
       ]
      },
      {
       "output_type": "stream",
       "stream": "stdout",
       "text": [
        "\n",
        "   102  |  \u001b[94m  1.117422\u001b[0m  |  \u001b[32m  1.062774\u001b[0m  |     1.051420  |     67.20%  |  49.4s"
       ]
      },
      {
       "output_type": "stream",
       "stream": "stdout",
       "text": [
        "\n",
        "   103  |    1.117758  |    1.091395  |     1.024155  |     66.05%  |  49.4s"
       ]
      },
      {
       "output_type": "stream",
       "stream": "stdout",
       "text": [
        "\n",
        "   104  |  \u001b[94m  1.112636\u001b[0m  |    1.078133  |     1.032003  |     66.78%  |  49.4s"
       ]
      },
      {
       "output_type": "stream",
       "stream": "stdout",
       "text": [
        "\n",
        "   105  |  \u001b[94m  1.097550\u001b[0m  |    1.094728  |     1.002578  |     66.12%  |  49.4s"
       ]
      },
      {
       "output_type": "stream",
       "stream": "stdout",
       "text": [
        "\n",
        "   106  |  \u001b[94m  1.096879\u001b[0m  |    1.072264  |     1.022956  |     66.69%  |  49.4s"
       ]
      },
      {
       "output_type": "stream",
       "stream": "stdout",
       "text": [
        "\n",
        "   107  |  \u001b[94m  1.086308\u001b[0m  |    1.081636  |     1.004319  |     66.56%  |  49.4s"
       ]
      },
      {
       "output_type": "stream",
       "stream": "stdout",
       "text": [
        "\n",
        "   108  |  \u001b[94m  1.085203\u001b[0m  |    1.064435  |     1.019510  |     68.03%  |  49.4s"
       ]
      },
      {
       "output_type": "stream",
       "stream": "stdout",
       "text": [
        "\n",
        "   109  |  \u001b[94m  1.080925\u001b[0m  |  \u001b[32m  1.062571\u001b[0m  |     1.017273  |     67.44%  |  49.4s"
       ]
      },
      {
       "output_type": "stream",
       "stream": "stdout",
       "text": [
        "\n",
        "   110  |    1.082615  |  \u001b[32m  1.055512\u001b[0m  |     1.025677  |     67.39%  |  49.4s"
       ]
      },
      {
       "output_type": "stream",
       "stream": "stdout",
       "text": [
        "\n",
        "   111  |    1.082033  |  \u001b[32m  1.054505\u001b[0m  |     1.026105  |     67.73%  |  49.4s"
       ]
      },
      {
       "output_type": "stream",
       "stream": "stdout",
       "text": [
        "\n",
        "   112  |  \u001b[94m  1.076614\u001b[0m  |    1.056937  |     1.018617  |     67.47%  |  49.4s"
       ]
      },
      {
       "output_type": "stream",
       "stream": "stdout",
       "text": [
        "\n",
        "   113  |  \u001b[94m  1.068702\u001b[0m  |  \u001b[32m  1.047788\u001b[0m  |     1.019961  |     67.83%  |  49.4s"
       ]
      },
      {
       "output_type": "stream",
       "stream": "stdout",
       "text": [
        "\n",
        "   114  |  \u001b[94m  1.065820\u001b[0m  |    1.105656  |     0.963971  |     66.12%  |  49.4s"
       ]
      },
      {
       "output_type": "stream",
       "stream": "stdout",
       "text": [
        "\n",
        "   115  |  \u001b[94m  1.051182\u001b[0m  |  \u001b[32m  1.040323\u001b[0m  |     1.010438  |     68.14%  |  49.4s"
       ]
      },
      {
       "output_type": "stream",
       "stream": "stdout",
       "text": [
        "\n",
        "   116  |    1.057008  |    1.043031  |     1.013400  |     67.89%  |  49.4s"
       ]
      },
      {
       "output_type": "stream",
       "stream": "stdout",
       "text": [
        "\n",
        "   117  |    1.057013  |  \u001b[32m  1.035396\u001b[0m  |     1.020878  |     68.50%  |  49.4s"
       ]
      },
      {
       "output_type": "stream",
       "stream": "stdout",
       "text": [
        "\n",
        "   118  |  \u001b[94m  1.045406\u001b[0m  |    1.045215  |     1.000182  |     68.08%  |  49.4s"
       ]
      },
      {
       "output_type": "stream",
       "stream": "stdout",
       "text": [
        "\n",
        "   119  |  \u001b[94m  1.040881\u001b[0m  |    1.042378  |     0.998564  |     67.67%  |  49.4s"
       ]
      },
      {
       "output_type": "stream",
       "stream": "stdout",
       "text": [
        "\n",
        "   120  |  \u001b[94m  1.040673\u001b[0m  |    1.055302  |     0.986138  |     67.36%  |  49.4s"
       ]
      },
      {
       "output_type": "stream",
       "stream": "stdout",
       "text": [
        "\n",
        "   121  |  \u001b[94m  1.034022\u001b[0m  |    1.042256  |     0.992100  |     67.76%  |  49.4s"
       ]
      },
      {
       "output_type": "stream",
       "stream": "stdout",
       "text": [
        "\n",
        "   122  |    1.038296  |  \u001b[32m  1.020504\u001b[0m  |     1.017434  |     68.84%  |  49.4s"
       ]
      },
      {
       "output_type": "stream",
       "stream": "stdout",
       "text": [
        "\n",
        "   123  |    1.034292  |    1.021986  |     1.012040  |     68.81%  |  49.4s"
       ]
      },
      {
       "output_type": "stream",
       "stream": "stdout",
       "text": [
        "\n",
        "   124  |  \u001b[94m  1.028819\u001b[0m  |    1.032608  |     0.996330  |     67.83%  |  49.4s"
       ]
      },
      {
       "output_type": "stream",
       "stream": "stdout",
       "text": [
        "\n",
        "   125  |  \u001b[94m  1.017421\u001b[0m  |    1.032486  |     0.985409  |     68.41%  |  49.4s"
       ]
      },
      {
       "output_type": "stream",
       "stream": "stdout",
       "text": [
        "\n",
        "   126  |  \u001b[94m  1.016683\u001b[0m  |    1.041234  |     0.976422  |     67.94%  |  49.4s"
       ]
      },
      {
       "output_type": "stream",
       "stream": "stdout",
       "text": [
        "\n",
        "   127  |    1.017793  |  \u001b[32m  1.019769\u001b[0m  |     0.998062  |     68.66%  |  49.4s"
       ]
      },
      {
       "output_type": "stream",
       "stream": "stdout",
       "text": [
        "\n",
        "   128  |    1.021532  |  \u001b[32m  1.014278\u001b[0m  |     1.007151  |     69.05%  |  49.4s"
       ]
      },
      {
       "output_type": "stream",
       "stream": "stdout",
       "text": [
        "\n",
        "   129  |  \u001b[94m  1.008226\u001b[0m  |    1.035713  |     0.973460  |     68.47%  |  49.4s"
       ]
      },
      {
       "output_type": "stream",
       "stream": "stdout",
       "text": [
        "\n",
        "   130  |  \u001b[94m  1.007548\u001b[0m  |    1.025495  |     0.982499  |     68.16%  |  49.4s"
       ]
      },
      {
       "output_type": "stream",
       "stream": "stdout",
       "text": [
        "\n",
        "   131  |  \u001b[94m  0.998978\u001b[0m  |    1.039770  |     0.960768  |     68.13%  |  49.4s"
       ]
      },
      {
       "output_type": "stream",
       "stream": "stdout",
       "text": [
        "\n",
        "   132  |    1.002085  |  \u001b[32m  1.004231\u001b[0m  |     0.997863  |     69.27%  |  49.4s"
       ]
      },
      {
       "output_type": "stream",
       "stream": "stdout",
       "text": [
        "\n",
        "   133  |    0.999713  |  \u001b[32m  0.995762\u001b[0m  |     1.003968  |     69.31%  |  49.4s"
       ]
      },
      {
       "output_type": "stream",
       "stream": "stdout",
       "text": [
        "\n",
        "   134  |  \u001b[94m  0.992301\u001b[0m  |    1.014942  |     0.977693  |     68.29%  |  49.4s"
       ]
      },
      {
       "output_type": "stream",
       "stream": "stdout",
       "text": [
        "\n",
        "   135  |    0.993338  |    1.006361  |     0.987059  |     69.37%  |  49.4s"
       ]
      },
      {
       "output_type": "stream",
       "stream": "stdout",
       "text": [
        "\n",
        "   136  |  \u001b[94m  0.981874\u001b[0m  |    1.016890  |     0.965566  |     68.75%  |  49.4s"
       ]
      },
      {
       "output_type": "stream",
       "stream": "stdout",
       "text": [
        "\n",
        "   137  |    0.987003  |    1.010746  |     0.976510  |     68.98%  |  49.4s"
       ]
      },
      {
       "output_type": "stream",
       "stream": "stdout",
       "text": [
        "\n",
        "   138  |  \u001b[94m  0.972870\u001b[0m  |    0.998955  |     0.973887  |     69.11%  |  49.4s"
       ]
      },
      {
       "output_type": "stream",
       "stream": "stdout",
       "text": [
        "\n",
        "   139  |    0.980951  |    1.007243  |     0.973897  |     68.84%  |  49.4s"
       ]
      },
      {
       "output_type": "stream",
       "stream": "stdout",
       "text": [
        "\n",
        "   140  |  \u001b[94m  0.969003\u001b[0m  |    1.032295  |     0.938688  |     68.03%  |  49.4s"
       ]
      },
      {
       "output_type": "stream",
       "stream": "stdout",
       "text": [
        "\n",
        "   141  |  \u001b[94m  0.962753\u001b[0m  |    0.999522  |     0.963213  |     69.40%  |  49.4s"
       ]
      },
      {
       "output_type": "stream",
       "stream": "stdout",
       "text": [
        "\n",
        "   142  |    0.976385  |  \u001b[32m  0.989934\u001b[0m  |     0.986314  |     70.01%  |  49.4s"
       ]
      },
      {
       "output_type": "stream",
       "stream": "stdout",
       "text": [
        "\n",
        "   143  |  \u001b[94m  0.961898\u001b[0m  |    1.007589  |     0.954654  |     69.32%  |  49.4s"
       ]
      },
      {
       "output_type": "stream",
       "stream": "stdout",
       "text": [
        "\n",
        "   144  |  \u001b[94m  0.954035\u001b[0m  |    1.007027  |     0.947379  |     68.95%  |  49.4s"
       ]
      },
      {
       "output_type": "stream",
       "stream": "stdout",
       "text": [
        "\n",
        "   145  |    0.954553  |    1.015339  |     0.940132  |     68.46%  |  49.4s"
       ]
      },
      {
       "output_type": "stream",
       "stream": "stdout",
       "text": [
        "\n",
        "   146  |    0.961166  |    1.009790  |     0.951848  |     69.49%  |  49.4s"
       ]
      },
      {
       "output_type": "stream",
       "stream": "stdout",
       "text": [
        "\n",
        "   147  |  \u001b[94m  0.949982\u001b[0m  |  \u001b[32m  0.979855\u001b[0m  |     0.969513  |     69.79%  |  49.4s"
       ]
      },
      {
       "output_type": "stream",
       "stream": "stdout",
       "text": [
        "\n",
        "   148  |    0.953713  |    0.996810  |     0.956765  |     69.22%  |  49.4s"
       ]
      },
      {
       "output_type": "stream",
       "stream": "stdout",
       "text": [
        "\n",
        "   149  |  \u001b[94m  0.949701\u001b[0m  |    0.992667  |     0.956716  |     69.33%  |  49.4s"
       ]
      },
      {
       "output_type": "stream",
       "stream": "stdout",
       "text": [
        "\n",
        "   150  |  \u001b[94m  0.937505\u001b[0m  |    0.991999  |     0.945066  |     69.68%  |  49.4s"
       ]
      },
      {
       "output_type": "stream",
       "stream": "stdout",
       "text": [
        "\n",
        "   151  |    0.950444  |    0.983379  |     0.966509  |     69.80%  |  49.4s"
       ]
      },
      {
       "output_type": "stream",
       "stream": "stdout",
       "text": [
        "\n",
        "   152  |  \u001b[94m  0.934313\u001b[0m  |    0.986467  |     0.947130  |     69.08%  |  49.4s"
       ]
      },
      {
       "output_type": "stream",
       "stream": "stdout",
       "text": [
        "\n",
        "   153  |    0.940119  |    1.002522  |     0.937754  |     68.86%  |  49.4s"
       ]
      },
      {
       "output_type": "stream",
       "stream": "stdout",
       "text": [
        "\n",
        "   154  |  \u001b[94m  0.930459\u001b[0m  |    1.001948  |     0.928650  |     69.45%  |  49.4s"
       ]
      },
      {
       "output_type": "stream",
       "stream": "stdout",
       "text": [
        "\n",
        "   155  |    0.935676  |    1.017651  |     0.919446  |     68.25%  |  49.4s"
       ]
      },
      {
       "output_type": "stream",
       "stream": "stdout",
       "text": [
        "\n",
        "   156  |    0.930803  |    0.982519  |     0.947364  |     70.17%  |  49.4s"
       ]
      },
      {
       "output_type": "stream",
       "stream": "stdout",
       "text": [
        "\n",
        "   157  |  \u001b[94m  0.919376\u001b[0m  |    0.992877  |     0.925971  |     69.36%  |  49.4s"
       ]
      },
      {
       "output_type": "stream",
       "stream": "stdout",
       "text": [
        "\n",
        "   158  |    0.922103  |    1.002446  |     0.919853  |     69.40%  |  49.4s"
       ]
      },
      {
       "output_type": "stream",
       "stream": "stdout",
       "text": [
        "\n",
        "   159  |    0.929952  |  \u001b[32m  0.972304\u001b[0m  |     0.956442  |     70.27%  |  49.4s"
       ]
      },
      {
       "output_type": "stream",
       "stream": "stdout",
       "text": [
        "\n",
        "   160  |    0.919674  |    0.973126  |     0.945072  |     70.14%  |  49.4s"
       ]
      },
      {
       "output_type": "stream",
       "stream": "stdout",
       "text": [
        "\n",
        "   161  |  \u001b[94m  0.913589\u001b[0m  |    0.984945  |     0.927554  |     69.76%  |  49.4s"
       ]
      },
      {
       "output_type": "stream",
       "stream": "stdout",
       "text": [
        "\n",
        "   162  |  \u001b[94m  0.911624\u001b[0m  |  \u001b[32m  0.966275\u001b[0m  |     0.943441  |     70.41%  |  49.4s"
       ]
      },
      {
       "output_type": "stream",
       "stream": "stdout",
       "text": [
        "\n",
        "   163  |  \u001b[94m  0.904873\u001b[0m  |    0.977203  |     0.925982  |     70.15%  |  49.4s"
       ]
      },
      {
       "output_type": "stream",
       "stream": "stdout",
       "text": [
        "\n",
        "   164  |  \u001b[94m  0.901595\u001b[0m  |    0.967338  |     0.932037  |     70.72%  |  49.4s"
       ]
      },
      {
       "output_type": "stream",
       "stream": "stdout",
       "text": [
        "\n",
        "   165  |  \u001b[94m  0.900213\u001b[0m  |    0.974013  |     0.924231  |     70.36%  |  49.4s"
       ]
      },
      {
       "output_type": "stream",
       "stream": "stdout",
       "text": [
        "\n",
        "   166  |    0.901677  |    0.985186  |     0.915235  |     69.36%  |  49.4s"
       ]
      },
      {
       "output_type": "stream",
       "stream": "stdout",
       "text": [
        "\n",
        "   167  |    0.903380  |    0.970022  |     0.931298  |     69.96%  |  49.4s"
       ]
      },
      {
       "output_type": "stream",
       "stream": "stdout",
       "text": [
        "\n",
        "   168  |    0.902221  |    0.973682  |     0.926608  |     70.12%  |  49.4s"
       ]
      },
      {
       "output_type": "stream",
       "stream": "stdout",
       "text": [
        "\n",
        "   169  |  \u001b[94m  0.898907\u001b[0m  |    0.985716  |     0.911933  |     69.75%  |  49.4s"
       ]
      },
      {
       "output_type": "stream",
       "stream": "stdout",
       "text": [
        "\n",
        "   170  |  \u001b[94m  0.887822\u001b[0m  |    0.990335  |     0.896487  |     69.43%  |  49.4s"
       ]
      },
      {
       "output_type": "stream",
       "stream": "stdout",
       "text": [
        "\n",
        "   171  |  \u001b[94m  0.883402\u001b[0m  |  \u001b[32m  0.959814\u001b[0m  |     0.920389  |     70.57%  |  49.4s"
       ]
      },
      {
       "output_type": "stream",
       "stream": "stdout",
       "text": [
        "\n",
        "   172  |    0.895198  |  \u001b[32m  0.953028\u001b[0m  |     0.939321  |     70.61%  |  49.4s"
       ]
      },
      {
       "output_type": "stream",
       "stream": "stdout",
       "text": [
        "\n",
        "   173  |    0.889065  |  \u001b[32m  0.949948\u001b[0m  |     0.935909  |     70.64%  |  49.4s"
       ]
      },
      {
       "output_type": "stream",
       "stream": "stdout",
       "text": [
        "\n",
        "   174  |    0.892756  |    0.965353  |     0.924798  |     70.09%  |  49.4s"
       ]
      },
      {
       "output_type": "stream",
       "stream": "stdout",
       "text": [
        "\n",
        "   175  |    0.885764  |    0.954814  |     0.927682  |     70.57%  |  49.4s"
       ]
      },
      {
       "output_type": "stream",
       "stream": "stdout",
       "text": [
        "\n",
        "   176  |    0.883839  |    0.966246  |     0.914714  |     70.60%  |  49.4s"
       ]
      },
      {
       "output_type": "stream",
       "stream": "stdout",
       "text": [
        "\n",
        "   177  |  \u001b[94m  0.879234\u001b[0m  |    0.950466  |     0.925055  |     70.73%  |  49.4s"
       ]
      },
      {
       "output_type": "stream",
       "stream": "stdout",
       "text": [
        "\n",
        "   178  |  \u001b[94m  0.877990\u001b[0m  |  \u001b[32m  0.940062\u001b[0m  |     0.933971  |     71.60%  |  49.4s"
       ]
      },
      {
       "output_type": "stream",
       "stream": "stdout",
       "text": [
        "\n",
        "   179  |    0.881069  |  \u001b[32m  0.939933\u001b[0m  |     0.937374  |     71.27%  |  49.4s"
       ]
      },
      {
       "output_type": "stream",
       "stream": "stdout",
       "text": [
        "\n",
        "   180  |  \u001b[94m  0.874736\u001b[0m  |    0.957897  |     0.913183  |     70.41%  |  49.4s"
       ]
      },
      {
       "output_type": "stream",
       "stream": "stdout",
       "text": [
        "\n",
        "   181  |  \u001b[94m  0.872765\u001b[0m  |    0.970584  |     0.899216  |     69.96%  |  49.4s"
       ]
      },
      {
       "output_type": "stream",
       "stream": "stdout",
       "text": [
        "\n",
        "   182  |  \u001b[94m  0.864182\u001b[0m  |    1.019106  |     0.847980  |     68.87%  |  49.4s"
       ]
      },
      {
       "output_type": "stream",
       "stream": "stdout",
       "text": [
        "\n",
        "   183  |    0.868964  |    0.967845  |     0.897833  |     69.87%  |  49.4s"
       ]
      },
      {
       "output_type": "stream",
       "stream": "stdout",
       "text": [
        "\n",
        "   184  |    0.865975  |    0.949692  |     0.911848  |     70.29%  |  49.4s"
       ]
      },
      {
       "output_type": "stream",
       "stream": "stdout",
       "text": [
        "\n",
        "   185  |    0.870170  |    0.960285  |     0.906158  |     70.49%  |  49.4s"
       ]
      },
      {
       "output_type": "stream",
       "stream": "stdout",
       "text": [
        "\n",
        "   186  |  \u001b[94m  0.862089\u001b[0m  |    0.951914  |     0.905637  |     70.45%  |  49.4s"
       ]
      },
      {
       "output_type": "stream",
       "stream": "stdout",
       "text": [
        "\n",
        "   187  |  \u001b[94m  0.856168\u001b[0m  |    0.963459  |     0.888640  |     70.48%  |  49.4s"
       ]
      },
      {
       "output_type": "stream",
       "stream": "stdout",
       "text": [
        "\n",
        "   188  |  \u001b[94m  0.855411\u001b[0m  |    0.944844  |     0.905346  |     70.97%  |  49.4s"
       ]
      },
      {
       "output_type": "stream",
       "stream": "stdout",
       "text": [
        "\n",
        "   189  |  \u001b[94m  0.850957\u001b[0m  |    0.955848  |     0.890264  |     70.50%  |  49.4s"
       ]
      },
      {
       "output_type": "stream",
       "stream": "stdout",
       "text": [
        "\n",
        "   190  |    0.856053  |    0.961424  |     0.890401  |     70.92%  |  49.4s"
       ]
      },
      {
       "output_type": "stream",
       "stream": "stdout",
       "text": [
        "\n",
        "   191  |  \u001b[94m  0.845816\u001b[0m  |    0.960988  |     0.880153  |     70.13%  |  49.4s"
       ]
      },
      {
       "output_type": "stream",
       "stream": "stdout",
       "text": [
        "\n",
        "   192  |    0.854358  |    0.965689  |     0.884713  |     70.26%  |  49.4s"
       ]
      },
      {
       "output_type": "stream",
       "stream": "stdout",
       "text": [
        "\n",
        "   193  |    0.847524  |    0.967536  |     0.875961  |     70.26%  |  49.4s"
       ]
      },
      {
       "output_type": "stream",
       "stream": "stdout",
       "text": [
        "\n",
        "   194  |    0.851652  |    0.998878  |     0.852609  |     69.20%  |  49.4s"
       ]
      },
      {
       "output_type": "stream",
       "stream": "stdout",
       "text": [
        "\n",
        "   195  |    0.847535  |    0.966850  |     0.876594  |     70.20%  |  49.4s"
       ]
      },
      {
       "output_type": "stream",
       "stream": "stdout",
       "text": [
        "\n",
        "   196  |  \u001b[94m  0.840495\u001b[0m  |    0.955465  |     0.879672  |     70.55%  |  49.4s"
       ]
      },
      {
       "output_type": "stream",
       "stream": "stdout",
       "text": [
        "\n",
        "   197  |    0.840563  |    0.951415  |     0.883487  |     71.17%  |  49.4s"
       ]
      },
      {
       "output_type": "stream",
       "stream": "stdout",
       "text": [
        "\n",
        "   198  |  \u001b[94m  0.837756\u001b[0m  |    0.950321  |     0.881550  |     71.45%  |  49.4s"
       ]
      },
      {
       "output_type": "stream",
       "stream": "stdout",
       "text": [
        "\n",
        "   199  |    0.837865  |    0.961456  |     0.871455  |     70.33%  |  49.4s"
       ]
      },
      {
       "output_type": "stream",
       "stream": "stdout",
       "text": [
        "\n",
        "   200  |    0.842373  |    0.965378  |     0.872583  |     70.59%  |  49.4s"
       ]
      },
      {
       "output_type": "stream",
       "stream": "stdout",
       "text": [
        "\n",
        "   201  |  \u001b[94m  0.826729\u001b[0m  |    0.947607  |     0.872439  |     71.09%  |  49.4s"
       ]
      },
      {
       "output_type": "stream",
       "stream": "stdout",
       "text": [
        "\n",
        "   202  |    0.827910  |    0.949629  |     0.871824  |     71.05%  |  49.4s"
       ]
      },
      {
       "output_type": "stream",
       "stream": "stdout",
       "text": [
        "\n",
        "   203  |    0.830272  |    0.944420  |     0.879134  |     71.07%  |  49.4s"
       ]
      },
      {
       "output_type": "stream",
       "stream": "stdout",
       "text": [
        "\n",
        "   204  |  \u001b[94m  0.826034\u001b[0m  |  \u001b[32m  0.930714\u001b[0m  |     0.887526  |     71.41%  |  49.4s"
       ]
      },
      {
       "output_type": "stream",
       "stream": "stdout",
       "text": [
        "\n",
        "   205  |  \u001b[94m  0.817770\u001b[0m  |    0.948090  |     0.862545  |     70.97%  |  49.4s"
       ]
      },
      {
       "output_type": "stream",
       "stream": "stdout",
       "text": [
        "\n",
        "   206  |    0.831199  |    0.945710  |     0.878916  |     71.11%  |  49.4s"
       ]
      },
      {
       "output_type": "stream",
       "stream": "stdout",
       "text": [
        "\n",
        "   207  |    0.829552  |    0.948100  |     0.874962  |     71.26%  |  49.4s"
       ]
      },
      {
       "output_type": "stream",
       "stream": "stdout",
       "text": [
        "\n",
        "   208  |    0.819805  |    0.939484  |     0.872613  |     71.45%  |  49.4s"
       ]
      },
      {
       "output_type": "stream",
       "stream": "stdout",
       "text": [
        "\n",
        "   209  |    0.817773  |    0.938349  |     0.871502  |     71.43%  |  49.4s"
       ]
      },
      {
       "output_type": "stream",
       "stream": "stdout",
       "text": [
        "\n",
        "   210  |  \u001b[94m  0.814414\u001b[0m  |    0.941101  |     0.865384  |     71.11%  |  49.4s"
       ]
      },
      {
       "output_type": "stream",
       "stream": "stdout",
       "text": [
        "\n",
        "   211  |    0.815203  |    0.942973  |     0.864503  |     70.93%  |  49.4s"
       ]
      },
      {
       "output_type": "stream",
       "stream": "stdout",
       "text": [
        "\n",
        "   212  |  \u001b[94m  0.810585\u001b[0m  |    0.951296  |     0.852085  |     70.84%  |  49.4s"
       ]
      },
      {
       "output_type": "stream",
       "stream": "stdout",
       "text": [
        "\n",
        "   213  |  \u001b[94m  0.809185\u001b[0m  |    0.936687  |     0.863879  |     71.45%  |  49.4s"
       ]
      },
      {
       "output_type": "stream",
       "stream": "stdout",
       "text": [
        "\n",
        "   214  |  \u001b[94m  0.807195\u001b[0m  |    0.932417  |     0.865702  |     71.59%  |  49.4s"
       ]
      },
      {
       "output_type": "stream",
       "stream": "stdout",
       "text": [
        "\n",
        "   215  |  \u001b[94m  0.796035\u001b[0m  |    0.936942  |     0.849610  |     71.47%  |  49.4s"
       ]
      },
      {
       "output_type": "stream",
       "stream": "stdout",
       "text": [
        "\n",
        "   216  |    0.805593  |    0.949054  |     0.848838  |     70.65%  |  49.4s"
       ]
      },
      {
       "output_type": "stream",
       "stream": "stdout",
       "text": [
        "\n",
        "   217  |    0.798731  |    0.939910  |     0.849795  |     71.10%  |  49.4s"
       ]
      },
      {
       "output_type": "stream",
       "stream": "stdout",
       "text": [
        "\n",
        "   218  |    0.798498  |    0.948333  |     0.842002  |     70.86%  |  49.4s"
       ]
      },
      {
       "output_type": "stream",
       "stream": "stdout",
       "text": [
        "\n",
        "   219  |    0.801256  |    0.941369  |     0.851160  |     71.75%  |  49.4s"
       ]
      },
      {
       "output_type": "stream",
       "stream": "stdout",
       "text": [
        "\n",
        "   220  |    0.808488  |    0.943726  |     0.856698  |     71.04%  |  49.4s"
       ]
      },
      {
       "output_type": "stream",
       "stream": "stdout",
       "text": [
        "\n",
        "   221  |    0.802212  |    0.931109  |     0.861566  |     71.82%  |  49.4s"
       ]
      },
      {
       "output_type": "stream",
       "stream": "stdout",
       "text": [
        "\n",
        "   222  |  \u001b[94m  0.796021\u001b[0m  |    0.932008  |     0.854093  |     71.72%  |  49.4s"
       ]
      },
      {
       "output_type": "stream",
       "stream": "stdout",
       "text": [
        "\n",
        "   223  |  \u001b[94m  0.795592\u001b[0m  |  \u001b[32m  0.930342\u001b[0m  |     0.855161  |     71.90%  |  49.4s"
       ]
      },
      {
       "output_type": "stream",
       "stream": "stdout",
       "text": [
        "\n",
        "   224  |    0.796487  |    0.932502  |     0.854140  |     72.03%  |  49.4s"
       ]
      },
      {
       "output_type": "stream",
       "stream": "stdout",
       "text": [
        "\n",
        "   225  |  \u001b[94m  0.788895\u001b[0m  |  \u001b[32m  0.924884\u001b[0m  |     0.852966  |     71.76%  |  49.4s"
       ]
      },
      {
       "output_type": "stream",
       "stream": "stdout",
       "text": [
        "\n",
        "   226  |    0.792307  |    0.950835  |     0.833275  |     70.72%  |  49.4s"
       ]
      },
      {
       "output_type": "stream",
       "stream": "stdout",
       "text": [
        "\n",
        "   227  |  \u001b[94m  0.783191\u001b[0m  |  \u001b[32m  0.919881\u001b[0m  |     0.851404  |     72.49%  |  49.4s"
       ]
      },
      {
       "output_type": "stream",
       "stream": "stdout",
       "text": [
        "\n",
        "   228  |    0.792024  |    0.924706  |     0.856515  |     71.85%  |  49.4s"
       ]
      },
      {
       "output_type": "stream",
       "stream": "stdout",
       "text": [
        "\n",
        "   229  |    0.788496  |    0.936540  |     0.841924  |     71.91%  |  49.4s"
       ]
      },
      {
       "output_type": "stream",
       "stream": "stdout",
       "text": [
        "\n",
        "   230  |    0.787978  |    0.932609  |     0.844918  |     71.56%  |  49.4s"
       ]
      },
      {
       "output_type": "stream",
       "stream": "stdout",
       "text": [
        "\n",
        "   231  |    0.785036  |    0.936635  |     0.838145  |     71.57%  |  49.4s"
       ]
      },
      {
       "output_type": "stream",
       "stream": "stdout",
       "text": [
        "\n",
        "   232  |  \u001b[94m  0.779073\u001b[0m  |    0.922242  |     0.844760  |     71.97%  |  49.4s"
       ]
      },
      {
       "output_type": "stream",
       "stream": "stdout",
       "text": [
        "\n",
        "   233  |  \u001b[94m  0.778738\u001b[0m  |    0.939362  |     0.829007  |     71.74%  |  49.4s"
       ]
      },
      {
       "output_type": "stream",
       "stream": "stdout",
       "text": [
        "\n",
        "   234  |  \u001b[94m  0.777392\u001b[0m  |  \u001b[32m  0.918409\u001b[0m  |     0.846454  |     72.26%  |  49.4s"
       ]
      },
      {
       "output_type": "stream",
       "stream": "stdout",
       "text": [
        "\n",
        "   235  |  \u001b[94m  0.763842\u001b[0m  |    0.937082  |     0.815129  |     71.58%  |  49.4s"
       ]
      },
      {
       "output_type": "stream",
       "stream": "stdout",
       "text": [
        "\n",
        "   236  |    0.781248  |    0.938149  |     0.832754  |     71.51%  |  49.4s"
       ]
      },
      {
       "output_type": "stream",
       "stream": "stdout",
       "text": [
        "\n",
        "   237  |    0.770802  |    0.959116  |     0.803659  |     70.90%  |  49.4s"
       ]
      },
      {
       "output_type": "stream",
       "stream": "stdout",
       "text": [
        "\n",
        "   238  |    0.766570  |    0.926491  |     0.827391  |     71.82%  |  49.4s"
       ]
      },
      {
       "output_type": "stream",
       "stream": "stdout",
       "text": [
        "\n",
        "   239  |    0.772932  |    0.926745  |     0.834028  |     71.85%  |  49.4s"
       ]
      },
      {
       "output_type": "stream",
       "stream": "stdout",
       "text": [
        "\n",
        "   240  |  \u001b[94m  0.763671\u001b[0m  |    0.926758  |     0.824024  |     71.74%  |  49.4s"
       ]
      },
      {
       "output_type": "stream",
       "stream": "stdout",
       "text": [
        "\n",
        "   241  |    0.766188  |    0.925938  |     0.827472  |     71.93%  |  49.4s"
       ]
      },
      {
       "output_type": "stream",
       "stream": "stdout",
       "text": [
        "\n",
        "   242  |    0.773151  |    0.934637  |     0.827220  |     71.95%  |  49.4s"
       ]
      },
      {
       "output_type": "stream",
       "stream": "stdout",
       "text": [
        "\n",
        "   243  |  \u001b[94m  0.761318\u001b[0m  |    0.928313  |     0.820110  |     71.99%  |  49.4s"
       ]
      },
      {
       "output_type": "stream",
       "stream": "stdout",
       "text": [
        "\n",
        "   244  |    0.766596  |    0.931126  |     0.823300  |     71.83%  |  49.4s"
       ]
      },
      {
       "output_type": "stream",
       "stream": "stdout",
       "text": [
        "\n",
        "   245  |    0.765821  |    0.934513  |     0.819486  |     71.22%  |  49.4s"
       ]
      },
      {
       "output_type": "stream",
       "stream": "stdout",
       "text": [
        "\n",
        "   246  |  \u001b[94m  0.758088\u001b[0m  |    0.934026  |     0.811636  |     71.61%  |  49.4s"
       ]
      },
      {
       "output_type": "stream",
       "stream": "stdout",
       "text": [
        "\n",
        "   247  |    0.758844  |    0.920860  |     0.824060  |     71.77%  |  49.4s"
       ]
      },
      {
       "output_type": "stream",
       "stream": "stdout",
       "text": [
        "\n",
        "   248  |  \u001b[94m  0.757697\u001b[0m  |    0.926107  |     0.818152  |     72.00%  |  49.4s"
       ]
      },
      {
       "output_type": "stream",
       "stream": "stdout",
       "text": [
        "\n",
        "   249  |  \u001b[94m  0.753380\u001b[0m  |    0.943285  |     0.798678  |     71.54%  |  49.4s"
       ]
      },
      {
       "output_type": "stream",
       "stream": "stdout",
       "text": [
        "\n",
        "   250  |    0.765321  |    0.938549  |     0.815430  |     71.23%  |  49.4s"
       ]
      },
      {
       "output_type": "stream",
       "stream": "stdout",
       "text": [
        "\n",
        "   251  |  \u001b[94m  0.745445\u001b[0m  |    0.943875  |     0.789771  |     71.66%  |  49.4s"
       ]
      },
      {
       "output_type": "stream",
       "stream": "stdout",
       "text": [
        "\n",
        "   252  |  \u001b[94m  0.744768\u001b[0m  |    0.937517  |     0.794405  |     71.71%  |  49.4s"
       ]
      },
      {
       "output_type": "stream",
       "stream": "stdout",
       "text": [
        "\n",
        "   253  |    0.746841  |    0.938869  |     0.795470  |     71.57%  |  49.4s"
       ]
      },
      {
       "output_type": "stream",
       "stream": "stdout",
       "text": [
        "\n",
        "   254  |    0.747362  |    0.931301  |     0.802492  |     71.69%  |  49.4s"
       ]
      },
      {
       "output_type": "stream",
       "stream": "stdout",
       "text": [
        "\n",
        "   255  |  \u001b[94m  0.742702\u001b[0m  |    0.943024  |     0.787575  |     71.54%  |  49.4s"
       ]
      },
      {
       "output_type": "stream",
       "stream": "stdout",
       "text": [
        "\n",
        "   256  |    0.752451  |  \u001b[32m  0.916810\u001b[0m  |     0.820728  |     72.34%  |  49.4s"
       ]
      },
      {
       "output_type": "stream",
       "stream": "stdout",
       "text": [
        "\n",
        "   257  |    0.750356  |    0.931699  |     0.805363  |     71.66%  |  49.4s"
       ]
      },
      {
       "output_type": "stream",
       "stream": "stdout",
       "text": [
        "\n",
        "   258  |  \u001b[94m  0.736891\u001b[0m  |    0.923043  |     0.798328  |     72.34%  |  49.4s"
       ]
      },
      {
       "output_type": "stream",
       "stream": "stdout",
       "text": [
        "\n",
        "   259  |  \u001b[94m  0.736678\u001b[0m  |    0.921539  |     0.799399  |     72.34%  |  49.4s"
       ]
      },
      {
       "output_type": "stream",
       "stream": "stdout",
       "text": [
        "\n",
        "   260  |    0.745727  |    0.926625  |     0.804777  |     71.86%  |  49.4s"
       ]
      },
      {
       "output_type": "stream",
       "stream": "stdout",
       "text": [
        "\n",
        "   261  |    0.741144  |    0.922486  |     0.803421  |     72.36%  |  49.4s"
       ]
      },
      {
       "output_type": "stream",
       "stream": "stdout",
       "text": [
        "\n",
        "   262  |  \u001b[94m  0.730796\u001b[0m  |    0.932365  |     0.783808  |     72.03%  |  49.4s"
       ]
      },
      {
       "output_type": "stream",
       "stream": "stdout",
       "text": [
        "\n",
        "   263  |  \u001b[94m  0.728777\u001b[0m  |    0.919385  |     0.792679  |     71.99%  |  49.4s"
       ]
      },
      {
       "output_type": "stream",
       "stream": "stdout",
       "text": [
        "\n",
        "   264  |    0.732199  |    0.936415  |     0.781918  |     71.76%  |  49.4s"
       ]
      },
      {
       "output_type": "stream",
       "stream": "stdout",
       "text": [
        "\n",
        "   265  |    0.732964  |    0.920892  |     0.795928  |     71.97%  |  49.4s"
       ]
      },
      {
       "output_type": "stream",
       "stream": "stdout",
       "text": [
        "\n",
        "   266  |    0.732527  |    0.932582  |     0.785482  |     71.32%  |  49.4s"
       ]
      },
      {
       "output_type": "stream",
       "stream": "stdout",
       "text": [
        "\n",
        "   267  |    0.733064  |    0.921251  |     0.795726  |     72.28%  |  49.4s"
       ]
      },
      {
       "output_type": "stream",
       "stream": "stdout",
       "text": [
        "\n",
        "   268  |    0.733052  |    0.934296  |     0.784603  |     72.20%  |  49.4s"
       ]
      },
      {
       "output_type": "stream",
       "stream": "stdout",
       "text": [
        "\n",
        "   269  |  \u001b[94m  0.726792\u001b[0m  |    0.918438  |     0.791335  |     72.68%  |  49.4s"
       ]
      },
      {
       "output_type": "stream",
       "stream": "stdout",
       "text": [
        "\n",
        "   270  |  \u001b[94m  0.720705\u001b[0m  |    0.922346  |     0.781382  |     72.33%  |  49.4s"
       ]
      },
      {
       "output_type": "stream",
       "stream": "stdout",
       "text": [
        "\n",
        "   271  |    0.725622  |    0.921778  |     0.787199  |     72.17%  |  49.4s"
       ]
      },
      {
       "output_type": "stream",
       "stream": "stdout",
       "text": [
        "\n",
        "   272  |    0.733478  |  \u001b[32m  0.909071\u001b[0m  |     0.806843  |     72.30%  |  49.4s"
       ]
      },
      {
       "output_type": "stream",
       "stream": "stdout",
       "text": [
        "\n",
        "   273  |    0.721379  |    0.930017  |     0.775662  |     72.04%  |  49.4s"
       ]
      },
      {
       "output_type": "stream",
       "stream": "stdout",
       "text": [
        "\n",
        "   274  |  \u001b[94m  0.716054\u001b[0m  |    0.918043  |     0.779978  |     72.47%  |  49.4s"
       ]
      },
      {
       "output_type": "stream",
       "stream": "stdout",
       "text": [
        "\n",
        "   275  |    0.720020  |    0.916101  |     0.785962  |     72.33%  |  49.4s"
       ]
      },
      {
       "output_type": "stream",
       "stream": "stdout",
       "text": [
        "\n",
        "   276  |  \u001b[94m  0.706735\u001b[0m  |    0.920212  |     0.768014  |     72.36%  |  49.4s"
       ]
      },
      {
       "output_type": "stream",
       "stream": "stdout",
       "text": [
        "\n",
        "   277  |    0.710928  |    0.927330  |     0.766640  |     72.04%  |  49.4s"
       ]
      },
      {
       "output_type": "stream",
       "stream": "stdout",
       "text": [
        "\n",
        "   278  |    0.706938  |    0.909599  |     0.777197  |     72.62%  |  49.4s"
       ]
      },
      {
       "output_type": "stream",
       "stream": "stdout",
       "text": [
        "\n",
        "   279  |    0.707781  |    0.923929  |     0.766056  |     71.89%  |  49.4s"
       ]
      },
      {
       "output_type": "stream",
       "stream": "stdout",
       "text": [
        "\n",
        "   280  |    0.717188  |    0.915233  |     0.783613  |     72.30%  |  49.4s"
       ]
      },
      {
       "output_type": "stream",
       "stream": "stdout",
       "text": [
        "\n",
        "   281  |  \u001b[94m  0.702395\u001b[0m  |    0.918526  |     0.764698  |     72.49%  |  49.4s"
       ]
      },
      {
       "output_type": "stream",
       "stream": "stdout",
       "text": [
        "\n",
        "   282  |    0.710904  |    0.909827  |     0.781362  |     72.82%  |  49.4s"
       ]
      },
      {
       "output_type": "stream",
       "stream": "stdout",
       "text": [
        "\n",
        "   283  |    0.715301  |    0.915396  |     0.781411  |     72.40%  |  49.4s"
       ]
      },
      {
       "output_type": "stream",
       "stream": "stdout",
       "text": [
        "\n",
        "   284  |    0.720404  |    0.917644  |     0.785058  |     71.96%  |  49.4s"
       ]
      },
      {
       "output_type": "stream",
       "stream": "stdout",
       "text": [
        "\n",
        "   285  |    0.708330  |    0.922918  |     0.767490  |     71.87%  |  49.4s"
       ]
      },
      {
       "output_type": "stream",
       "stream": "stdout",
       "text": [
        "\n",
        "   286  |  \u001b[94m  0.700401\u001b[0m  |    0.913698  |     0.766556  |     72.37%  |  49.4s"
       ]
      },
      {
       "output_type": "stream",
       "stream": "stdout",
       "text": [
        "\n",
        "   287  |    0.705097  |    0.925862  |     0.761557  |     72.25%  |  49.4s"
       ]
      },
      {
       "output_type": "stream",
       "stream": "stdout",
       "text": [
        "\n",
        "   288  |    0.709369  |    0.921165  |     0.770079  |     72.21%  |  49.4s"
       ]
      },
      {
       "output_type": "stream",
       "stream": "stdout",
       "text": [
        "\n",
        "   289  |  \u001b[94m  0.698956\u001b[0m  |    0.932391  |     0.749638  |     71.93%  |  49.4s"
       ]
      },
      {
       "output_type": "stream",
       "stream": "stdout",
       "text": [
        "\n",
        "   290  |    0.711080  |    0.923316  |     0.770137  |     72.13%  |  49.4s"
       ]
      },
      {
       "output_type": "stream",
       "stream": "stdout",
       "text": [
        "\n",
        "   291  |    0.700229  |    0.945503  |     0.740589  |     71.81%  |  49.4s"
       ]
      },
      {
       "output_type": "stream",
       "stream": "stdout",
       "text": [
        "\n",
        "   292  |    0.710864  |    0.927015  |     0.766831  |     72.58%  |  49.4s"
       ]
      },
      {
       "output_type": "stream",
       "stream": "stdout",
       "text": [
        "\n",
        "   293  |    0.704391  |    0.923846  |     0.762454  |     72.34%  |  49.4s"
       ]
      },
      {
       "output_type": "stream",
       "stream": "stdout",
       "text": [
        "\n",
        "   294  |  \u001b[94m  0.691201\u001b[0m  |    0.921059  |     0.750442  |     72.51%  |  49.4s"
       ]
      },
      {
       "output_type": "stream",
       "stream": "stdout",
       "text": [
        "\n",
        "   295  |  \u001b[94m  0.688865\u001b[0m  |    0.913954  |     0.753719  |     72.76%  |  49.4s"
       ]
      },
      {
       "output_type": "stream",
       "stream": "stdout",
       "text": [
        "\n",
        "   296  |  \u001b[94m  0.685017\u001b[0m  |    0.922960  |     0.742196  |     72.05%  |  49.4s"
       ]
      },
      {
       "output_type": "stream",
       "stream": "stdout",
       "text": [
        "\n",
        "   297  |    0.696606  |    0.924606  |     0.753409  |     72.43%  |  49.4s"
       ]
      },
      {
       "output_type": "stream",
       "stream": "stdout",
       "text": [
        "\n",
        "   298  |    0.690129  |    0.928493  |     0.743278  |     72.02%  |  49.4s"
       ]
      },
      {
       "output_type": "stream",
       "stream": "stdout",
       "text": [
        "\n",
        "   299  |    0.687595  |    0.919014  |     0.748188  |     72.34%  |  49.4s"
       ]
      },
      {
       "output_type": "stream",
       "stream": "stdout",
       "text": [
        "\n",
        "   300  |    0.685325  |    0.918171  |     0.746402  |     72.27%  |  49.4s"
       ]
      },
      {
       "output_type": "stream",
       "stream": "stdout",
       "text": [
        "\n",
        "   301  |    0.691333  |    0.924638  |     0.747679  |     72.54%  |  49.4s"
       ]
      },
      {
       "output_type": "stream",
       "stream": "stdout",
       "text": [
        "\n",
        "   302  |  \u001b[94m  0.681726\u001b[0m  |    0.922700  |     0.738838  |     72.80%  |  49.4s"
       ]
      },
      {
       "output_type": "stream",
       "stream": "stdout",
       "text": [
        "\n",
        "   303  |    0.696184  |    0.921536  |     0.755460  |     72.42%  |  49.4s"
       ]
      },
      {
       "output_type": "stream",
       "stream": "stdout",
       "text": [
        "\n",
        "   304  |    0.686320  |    0.922102  |     0.744299  |     72.67%  |  49.4s"
       ]
      },
      {
       "output_type": "stream",
       "stream": "stdout",
       "text": [
        "\n",
        "   305  |    0.689981  |    0.946737  |     0.728800  |     71.58%  |  49.4s"
       ]
      },
      {
       "output_type": "stream",
       "stream": "stdout",
       "text": [
        "\n",
        "   306  |    0.687565  |  \u001b[32m  0.906253\u001b[0m  |     0.758690  |     73.12%  |  49.4s"
       ]
      },
      {
       "output_type": "stream",
       "stream": "stdout",
       "text": [
        "\n",
        "   307  |  \u001b[94m  0.679431\u001b[0m  |    0.915929  |     0.741795  |     72.69%  |  49.4s"
       ]
      },
      {
       "output_type": "stream",
       "stream": "stdout",
       "text": [
        "\n",
        "   308  |  \u001b[94m  0.678204\u001b[0m  |    0.910859  |     0.744577  |     73.08%  |  49.4s"
       ]
      },
      {
       "output_type": "stream",
       "stream": "stdout",
       "text": [
        "\n",
        "   309  |    0.679538  |    0.910822  |     0.746071  |     72.32%  |  49.4s"
       ]
      },
      {
       "output_type": "stream",
       "stream": "stdout",
       "text": [
        "\n",
        "   310  |    0.682977  |    0.924808  |     0.738507  |     72.06%  |  49.4s"
       ]
      },
      {
       "output_type": "stream",
       "stream": "stdout",
       "text": [
        "\n",
        "   311  |  \u001b[94m  0.677376\u001b[0m  |    0.922763  |     0.734073  |     72.87%  |  49.4s"
       ]
      },
      {
       "output_type": "stream",
       "stream": "stdout",
       "text": [
        "\n",
        "   312  |  \u001b[94m  0.672514\u001b[0m  |    0.909086  |     0.739769  |     72.50%  |  49.4s"
       ]
      },
      {
       "output_type": "stream",
       "stream": "stdout",
       "text": [
        "\n",
        "   313  |    0.675404  |  \u001b[32m  0.906137\u001b[0m  |     0.745366  |     72.37%  |  49.4s"
       ]
      },
      {
       "output_type": "stream",
       "stream": "stdout",
       "text": [
        "\n",
        "   314  |    0.678743  |    0.953911  |     0.711537  |     71.26%  |  49.4s"
       ]
      },
      {
       "output_type": "stream",
       "stream": "stdout",
       "text": [
        "\n",
        "   315  |    0.683877  |    0.924296  |     0.739890  |     72.37%  |  49.4s"
       ]
      },
      {
       "output_type": "stream",
       "stream": "stdout",
       "text": [
        "\n",
        "   316  |  \u001b[94m  0.669211\u001b[0m  |  \u001b[32m  0.905331\u001b[0m  |     0.739189  |     72.76%  |  49.4s"
       ]
      },
      {
       "output_type": "stream",
       "stream": "stdout",
       "text": [
        "\n",
        "   317  |    0.676231  |    0.917757  |     0.736830  |     72.75%  |  49.4s"
       ]
      },
      {
       "output_type": "stream",
       "stream": "stdout",
       "text": [
        "\n",
        "   318  |  \u001b[94m  0.668742\u001b[0m  |    0.928285  |     0.720406  |     72.33%  |  49.4s"
       ]
      },
      {
       "output_type": "stream",
       "stream": "stdout",
       "text": [
        "\n",
        "   319  |    0.669340  |    0.921558  |     0.726314  |     72.83%  |  49.4s"
       ]
      },
      {
       "output_type": "stream",
       "stream": "stdout",
       "text": [
        "\n",
        "   320  |  \u001b[94m  0.661386\u001b[0m  |    0.916987  |     0.721261  |     72.34%  |  49.4s"
       ]
      },
      {
       "output_type": "stream",
       "stream": "stdout",
       "text": [
        "\n",
        "   321  |    0.664787  |    0.921216  |     0.721640  |     72.54%  |  49.4s"
       ]
      },
      {
       "output_type": "stream",
       "stream": "stdout",
       "text": [
        "\n",
        "   322  |    0.669071  |    0.935918  |     0.714882  |     71.89%  |  49.4s"
       ]
      },
      {
       "output_type": "stream",
       "stream": "stdout",
       "text": [
        "\n",
        "   323  |    0.673991  |    0.912290  |     0.738790  |     72.23%  |  49.4s"
       ]
      },
      {
       "output_type": "stream",
       "stream": "stdout",
       "text": [
        "\n",
        "   324  |    0.673876  |    0.920255  |     0.732272  |     72.57%  |  49.4s"
       ]
      },
      {
       "output_type": "stream",
       "stream": "stdout",
       "text": [
        "\n",
        "   325  |    0.663447  |    0.933546  |     0.710674  |     72.52%  |  49.4s"
       ]
      },
      {
       "output_type": "stream",
       "stream": "stdout",
       "text": [
        "\n",
        "   326  |  \u001b[94m  0.658156\u001b[0m  |    0.929423  |     0.708134  |     72.50%  |  49.4s"
       ]
      },
      {
       "output_type": "stream",
       "stream": "stdout",
       "text": [
        "\n",
        "   327  |    0.660325  |    0.923813  |     0.714782  |     72.58%  |  49.4s"
       ]
      },
      {
       "output_type": "stream",
       "stream": "stdout",
       "text": [
        "\n",
        "   328  |    0.658969  |    0.913435  |     0.721419  |     72.77%  |  49.4s"
       ]
      },
      {
       "output_type": "stream",
       "stream": "stdout",
       "text": [
        "\n",
        "   329  |    0.667764  |    0.926042  |     0.721094  |     72.56%  |  49.4s"
       ]
      },
      {
       "output_type": "stream",
       "stream": "stdout",
       "text": [
        "\n",
        "   330  |  \u001b[94m  0.651988\u001b[0m  |    0.921675  |     0.707395  |     72.71%  |  49.4s"
       ]
      },
      {
       "output_type": "stream",
       "stream": "stdout",
       "text": [
        "\n",
        "   331  |  \u001b[94m  0.651169\u001b[0m  |    0.938713  |     0.693682  |     72.31%  |  49.4s"
       ]
      },
      {
       "output_type": "stream",
       "stream": "stdout",
       "text": [
        "\n",
        "   332  |    0.657655  |    0.935980  |     0.702638  |     72.57%  |  49.4s"
       ]
      },
      {
       "output_type": "stream",
       "stream": "stdout",
       "text": [
        "\n",
        "   333  |  \u001b[94m  0.651096\u001b[0m  |    0.923542  |     0.704998  |     72.64%  |  49.4s"
       ]
      },
      {
       "output_type": "stream",
       "stream": "stdout",
       "text": [
        "\n",
        "   334  |    0.656845  |    0.913370  |     0.719144  |     72.57%  |  49.4s"
       ]
      },
      {
       "output_type": "stream",
       "stream": "stdout",
       "text": [
        "\n",
        "   335  |  \u001b[94m  0.643925\u001b[0m  |    0.934483  |     0.689071  |     72.79%  |  49.4s"
       ]
      },
      {
       "output_type": "stream",
       "stream": "stdout",
       "text": [
        "\n",
        "   336  |    0.656832  |    0.928107  |     0.707712  |     72.36%  |  49.4s"
       ]
      },
      {
       "output_type": "stream",
       "stream": "stdout",
       "text": [
        "\n",
        "   337  |    0.658005  |    0.933003  |     0.705255  |     72.31%  |  49.4s"
       ]
      },
      {
       "output_type": "stream",
       "stream": "stdout",
       "text": [
        "\n",
        "   338  |    0.645088  |    0.915861  |     0.704352  |     72.96%  |  49.4s"
       ]
      },
      {
       "output_type": "stream",
       "stream": "stdout",
       "text": [
        "\n",
        "   339  |  \u001b[94m  0.641145\u001b[0m  |    0.926035  |     0.692355  |     72.89%  |  49.4s"
       ]
      },
      {
       "output_type": "stream",
       "stream": "stdout",
       "text": [
        "\n",
        "   340  |    0.645164  |    0.932061  |     0.692190  |     72.52%  |  49.4s"
       ]
      },
      {
       "output_type": "stream",
       "stream": "stdout",
       "text": [
        "\n",
        "   341  |  \u001b[94m  0.640423\u001b[0m  |    0.929777  |     0.688792  |     72.67%  |  49.4s"
       ]
      },
      {
       "output_type": "stream",
       "stream": "stdout",
       "text": [
        "\n",
        "   342  |    0.648243  |    0.919813  |     0.704755  |     73.20%  |  49.4s"
       ]
      },
      {
       "output_type": "stream",
       "stream": "stdout",
       "text": [
        "\n",
        "   343  |  \u001b[94m  0.636766\u001b[0m  |    0.931616  |     0.683507  |     73.43%  |  49.4s"
       ]
      },
      {
       "output_type": "stream",
       "stream": "stdout",
       "text": [
        "\n",
        "   344  |    0.642386  |    0.958868  |     0.669942  |     71.66%  |  49.4s"
       ]
      },
      {
       "output_type": "stream",
       "stream": "stdout",
       "text": [
        "\n",
        "   345  |    0.645138  |    0.921027  |     0.700455  |     72.63%  |  49.4s"
       ]
      },
      {
       "output_type": "stream",
       "stream": "stdout",
       "text": [
        "\n",
        "   346  |  \u001b[94m  0.635598\u001b[0m  |    0.916588  |     0.693439  |     72.76%  |  49.4s"
       ]
      },
      {
       "output_type": "stream",
       "stream": "stdout",
       "text": [
        "\n",
        "   347  |    0.638965  |    0.927532  |     0.688888  |     73.06%  |  49.4s"
       ]
      },
      {
       "output_type": "stream",
       "stream": "stdout",
       "text": [
        "\n",
        "   348  |    0.635730  |    0.927994  |     0.685059  |     72.81%  |  49.4s"
       ]
      },
      {
       "output_type": "stream",
       "stream": "stdout",
       "text": [
        "\n",
        "   349  |    0.642340  |    0.923824  |     0.695305  |     72.18%  |  49.4s"
       ]
      },
      {
       "output_type": "stream",
       "stream": "stdout",
       "text": [
        "\n",
        "   350  |    0.638139  |    0.937873  |     0.680410  |     72.56%  |  49.4s"
       ]
      },
      {
       "output_type": "stream",
       "stream": "stdout",
       "text": [
        "\n",
        "   351  |  \u001b[94m  0.634168\u001b[0m  |    0.922569  |     0.687393  |     72.74%  |  49.4s"
       ]
      },
      {
       "output_type": "stream",
       "stream": "stdout",
       "text": [
        "\n",
        "   352  |    0.635287  |    0.926964  |     0.685342  |     72.71%  |  49.4s"
       ]
      },
      {
       "output_type": "stream",
       "stream": "stdout",
       "text": [
        "\n",
        "   353  |    0.637509  |    0.937422  |     0.680067  |     72.57%  |  49.4s"
       ]
      },
      {
       "output_type": "stream",
       "stream": "stdout",
       "text": [
        "\n",
        "   354  |  \u001b[94m  0.629893\u001b[0m  |    0.939596  |     0.670387  |     72.67%  |  49.4s"
       ]
      },
      {
       "output_type": "stream",
       "stream": "stdout",
       "text": [
        "\n",
        "   355  |    0.632785  |    0.950380  |     0.665824  |     72.58%  |  49.4s"
       ]
      },
      {
       "output_type": "stream",
       "stream": "stdout",
       "text": [
        "\n",
        "   356  |    0.643508  |    0.934564  |     0.688565  |     72.59%  |  49.4s"
       ]
      },
      {
       "output_type": "stream",
       "stream": "stdout",
       "text": [
        "\n",
        "   357  |  \u001b[94m  0.627625\u001b[0m  |    0.917793  |     0.683841  |     73.47%  |  49.4s"
       ]
      },
      {
       "output_type": "stream",
       "stream": "stdout",
       "text": [
        "\n",
        "   358  |    0.632957  |    0.951601  |     0.665149  |     71.97%  |  49.4s"
       ]
      },
      {
       "output_type": "stream",
       "stream": "stdout",
       "text": [
        "\n",
        "   359  |    0.635932  |    0.947261  |     0.671338  |     72.52%  |  49.4s"
       ]
      },
      {
       "output_type": "stream",
       "stream": "stdout",
       "text": [
        "\n",
        "   360  |  \u001b[94m  0.627176\u001b[0m  |    0.924132  |     0.678665  |     72.83%  |  49.4s"
       ]
      },
      {
       "output_type": "stream",
       "stream": "stdout",
       "text": [
        "\n",
        "   361  |    0.628446  |    0.923385  |     0.680589  |     73.06%  |  49.4s"
       ]
      },
      {
       "output_type": "stream",
       "stream": "stdout",
       "text": [
        "\n",
        "   362  |  \u001b[94m  0.621080\u001b[0m  |    0.976203  |     0.636220  |     72.29%  |  49.4s"
       ]
      },
      {
       "output_type": "stream",
       "stream": "stdout",
       "text": [
        "\n",
        "   363  |    0.627363  |    0.929566  |     0.674899  |     73.27%  |  49.4s"
       ]
      },
      {
       "output_type": "stream",
       "stream": "stdout",
       "text": [
        "\n",
        "   364  |    0.625007  |    0.944542  |     0.661704  |     72.76%  |  49.4s"
       ]
      },
      {
       "output_type": "stream",
       "stream": "stdout",
       "text": [
        "\n",
        "   365  |    0.622927  |    0.934442  |     0.666630  |     72.83%  |  49.4s"
       ]
      },
      {
       "output_type": "stream",
       "stream": "stdout",
       "text": [
        "\n",
        "   366  |    0.623295  |    0.924217  |     0.674403  |     73.09%  |  49.4s"
       ]
      },
      {
       "output_type": "stream",
       "stream": "stdout",
       "text": [
        "\n",
        "   367  |    0.627894  |    0.934297  |     0.672050  |     72.63%  |  49.4s"
       ]
      },
      {
       "output_type": "stream",
       "stream": "stdout",
       "text": [
        "\n",
        "Early stopping.\n",
        "Best valid loss was 0.905331 at epoch 316.\n"
       ]
      },
      {
       "metadata": {},
       "output_type": "pyout",
       "prompt_number": 143,
       "text": [
        "NeuralNet(X_tensor_type=<function tensor4 at 0x7f65461392a8>,\n",
        "     batch_iterator_test=<nolearn.lasagne.BatchIterator object at 0x7f6539004590>,\n",
        "     batch_iterator_train=<__main__.FlipBatchIterator object at 0x7f64ed4bbfd0>,\n",
        "     conv1_filter_size=(5, 5),\n",
        "     conv1_nonlinearity=<function rectify at 0x7f65394a6398>,\n",
        "     conv1_num_filters=128, conv1_pad=2, conv1_strides=(4, 4),\n",
        "     conv2_filter_size=(3, 3),\n",
        "     conv2_nonlinearity=<function rectify at 0x7f65394a6398>,\n",
        "     conv2_num_filters=128, conv2_pad=2, conv3_filter_size=(3, 3),\n",
        "     conv3_nonlinearity=<function rectify at 0x7f65394a6398>,\n",
        "     conv3_num_filters=256, conv3_pad=1, dropout1_p=0.3, dropout2_p=0.5,\n",
        "     dropout3_p=0.5, eval_size=0.2,\n",
        "     hidden1_nonlinearity=<function rectify at 0x7f65394a6398>,\n",
        "     hidden1_num_units=512,\n",
        "     hidden2_nonlinearity=<function rectify at 0x7f65394a6398>,\n",
        "     hidden2_num_units=1024,\n",
        "     hidden3_nonlinearity=<function rectify at 0x7f65394a6398>,\n",
        "     hidden3_num_units=1024, input_shape=(None, 1, 96, 96),\n",
        "     layers=[('input', <class 'lasagne.layers.input.InputLayer'>), ('conv1', <class 'lasagne.layers.cuda_convnet.Conv2DCCLayer'>), ('pool1', <class 'lasagne.layers.cuda_convnet.MaxPool2DCCLayer'>), ('conv2', <class 'lasagne.layers.cuda_convnet.Conv2DCCLayer'>), ('conv3', <class 'lasagne.layers.cuda_convn...<class 'lasagne.layers.noise.DropoutLayer'>), ('output', <class 'lasagne.layers.dense.DenseLayer'>)],\n",
        "     loss=<function negative_log_likelihood at 0x7f6539028de8>,\n",
        "     max_epochs=500, more_params={},\n",
        "     on_epoch_finished=[<__main__.AdjustVariable object at 0x7f64ed4972d0>, <__main__.AdjustVariable object at 0x7f64ed497310>, <__main__.EarlyStopping object at 0x7f64ed497390>],\n",
        "     on_training_finished=(),\n",
        "     output_nonlinearity=<theano.tensor.nnet.nnet.Softmax object at 0x7f6545d81b50>,\n",
        "     output_num_units=121, pool1_ds=(3, 3), pool1_strides=(2, 2),\n",
        "     pool3_ds=(3, 3), pool3_strides=(2, 2), regression=False,\n",
        "     test_size=0.1, update=<function nesterov_momentum at 0x7f6539028aa0>,\n",
        "     update_learning_rate=array(0.002738677430897951, dtype=float32),\n",
        "     update_momentum=array(0.9726132154464722, dtype=float32),\n",
        "     use_label_encoder=True, verbose=2,\n",
        "     y_tensor_type=TensorType(int32, vector))"
       ]
      }
     ],
     "prompt_number": 143
    },
    {
     "cell_type": "code",
     "collapsed": false,
     "input": [
      "import sys\n",
      "sys.setrecursionlimit(10000)\n",
      "import cPickle as pickle\n",
      "dump_name = 'net_{}.pickle'.format(min([d['valid_loss'] for d in net2.train_history_]))\n",
      "with open(dump_name, 'wb') as f:\n",
      "    pickle.dump(net2, f, -1)\n",
      "dump_name"
     ],
     "language": "python",
     "metadata": {},
     "outputs": [
      {
       "metadata": {},
       "output_type": "pyout",
       "prompt_number": 144,
       "text": [
        "'net_0.905331134796.pickle'"
       ]
      }
     ],
     "prompt_number": 144
    },
    {
     "cell_type": "code",
     "collapsed": false,
     "input": [
      "%matplotlib inline\n",
      "import pandas as pd\n",
      "train_history = pd.DataFrame(net2.train_history_)\n",
      "train_history[['train_loss', 'valid_loss']].plot(figsize=(15,10))"
     ],
     "language": "python",
     "metadata": {},
     "outputs": [
      {
       "metadata": {},
       "output_type": "pyout",
       "prompt_number": 145,
       "text": [
        "<matplotlib.axes._subplots.AxesSubplot at 0x7f64e36986d0>"
       ]
      },
      {
       "metadata": {},
       "output_type": "display_data",
       "png": "[encoded data removed]",
       "text": [
        "<matplotlib.figure.Figure at 0x7f64e36b40d0>"
       ]
      }
     ],
     "prompt_number": 145
    },
    {
     "cell_type": "code",
     "collapsed": false,
     "input": [
      "net2.predict(X_test[100:110])"
     ],
     "language": "python",
     "metadata": {},
     "outputs": [
      {
       "metadata": {},
       "output_type": "pyout",
       "prompt_number": 146,
       "text": [
        "array(['detritus_other', 'hydromedusae_narcomedusae',\n",
        "       'unknown_blobs_and_smudges', 'detritus_other',\n",
        "       'tunicate_doliolid_nurse', 'ctenophore_cestid',\n",
        "       'trichodesmium_puff', 'copepod_calanoid_flatheads',\n",
        "       'siphonophore_calycophoran_rocketship_adult', 'trichodesmium_puff'], \n",
        "      dtype='|S45')"
       ]
      }
     ],
     "prompt_number": 146
    },
    {
     "cell_type": "code",
     "collapsed": false,
     "input": [
      "plt.figure(figsize=(20,20))\n",
      "c = 1\n",
      "for label, id, img in zip(net2.predict(X_test[100:110]), ids, X_test[100:110]):\n",
      "    plt.subplot(10, 10, c)\n",
      "    plt.axis('off')\n",
      "    plt.imshow(img[0], cmap='hot')\n",
      "    c +=1\n",
      "    for i, img in enumerate(X[y == label][0:9]):\n",
      "        plt.subplot(10, 10, c)\n",
      "        plt.axis('off')\n",
      "        plt.imshow(img[0], cmap='gray')\n",
      "        c += 1"
     ],
     "language": "python",
     "metadata": {},
     "outputs": [
      {
       "metadata": {},
       "output_type": "display_data",
       "png": "[encoded data removed]",
       "text": [
        "<matplotlib.figure.Figure at 0x7f65302d2550>"
       ]
      }
     ],
     "prompt_number": 147
    },
    {
     "cell_type": "code",
     "collapsed": false,
     "input": [
      "#y_test = net2.predict_proba(X_test)\n",
      "#y_test += net2.predict_proba(X_test[:, :, :, ::-1])\n",
      "#y_test += net2.predict_proba(X_test[:, :, ::-1, :])\n",
      "\n",
      "#for i in [45, 90, 135, 180, 225, 270, 315]:\n",
      "#    print i\n",
      "#    Xt = X_test.copy()\n",
      "#    for idx in range(Xt.shape[0]):\n",
      "#        Xt[idx][0] = rotate(Xt[idx][0], i)\n",
      "#    y_test += net2.predict_proba(Xt)\n",
      "#    \n",
      "#y_test /= 10.0"
     ],
     "language": "python",
     "metadata": {},
     "outputs": []
    },
    {
     "cell_type": "code",
     "collapsed": false,
     "input": [
      "y_test = net2.predict_proba(X_test)\n",
      "for i in range(20):\n",
      "    print i, 'T',\n",
      "    Xt = transform_randomly(X_test)\n",
      "    print 'P',\n",
      "    y_test += net2.predict_proba(Xt)\n",
      "\n",
      "y_test /= 20.0"
     ],
     "language": "python",
     "metadata": {},
     "outputs": [
      {
       "output_type": "stream",
       "stream": "stdout",
       "text": [
        "0 T "
       ]
      },
      {
       "output_type": "stream",
       "stream": "stdout",
       "text": [
        "P "
       ]
      },
      {
       "output_type": "stream",
       "stream": "stdout",
       "text": [
        "1 T "
       ]
      },
      {
       "output_type": "stream",
       "stream": "stdout",
       "text": [
        "P "
       ]
      },
      {
       "output_type": "stream",
       "stream": "stdout",
       "text": [
        "2 T "
       ]
      },
      {
       "output_type": "stream",
       "stream": "stdout",
       "text": [
        "P "
       ]
      },
      {
       "output_type": "stream",
       "stream": "stdout",
       "text": [
        "3 T "
       ]
      },
      {
       "output_type": "stream",
       "stream": "stdout",
       "text": [
        "P "
       ]
      },
      {
       "output_type": "stream",
       "stream": "stdout",
       "text": [
        "4 T "
       ]
      },
      {
       "output_type": "stream",
       "stream": "stdout",
       "text": [
        "P "
       ]
      },
      {
       "output_type": "stream",
       "stream": "stdout",
       "text": [
        "5 T "
       ]
      },
      {
       "output_type": "stream",
       "stream": "stdout",
       "text": [
        "P "
       ]
      },
      {
       "output_type": "stream",
       "stream": "stdout",
       "text": [
        "6 T "
       ]
      },
      {
       "output_type": "stream",
       "stream": "stdout",
       "text": [
        "P "
       ]
      },
      {
       "output_type": "stream",
       "stream": "stdout",
       "text": [
        "7 T "
       ]
      },
      {
       "output_type": "stream",
       "stream": "stdout",
       "text": [
        "P "
       ]
      },
      {
       "output_type": "stream",
       "stream": "stdout",
       "text": [
        "8 T "
       ]
      },
      {
       "output_type": "stream",
       "stream": "stdout",
       "text": [
        "P "
       ]
      },
      {
       "output_type": "stream",
       "stream": "stdout",
       "text": [
        "9 T "
       ]
      },
      {
       "output_type": "stream",
       "stream": "stdout",
       "text": [
        "P "
       ]
      },
      {
       "output_type": "stream",
       "stream": "stdout",
       "text": [
        "10 T "
       ]
      },
      {
       "output_type": "stream",
       "stream": "stdout",
       "text": [
        "P "
       ]
      },
      {
       "output_type": "stream",
       "stream": "stdout",
       "text": [
        "11 T "
       ]
      },
      {
       "output_type": "stream",
       "stream": "stdout",
       "text": [
        "P "
       ]
      },
      {
       "output_type": "stream",
       "stream": "stdout",
       "text": [
        "12 T "
       ]
      },
      {
       "output_type": "stream",
       "stream": "stdout",
       "text": [
        "P "
       ]
      },
      {
       "output_type": "stream",
       "stream": "stdout",
       "text": [
        "13 T "
       ]
      },
      {
       "output_type": "stream",
       "stream": "stdout",
       "text": [
        "P "
       ]
      },
      {
       "output_type": "stream",
       "stream": "stdout",
       "text": [
        "14 T "
       ]
      },
      {
       "output_type": "stream",
       "stream": "stdout",
       "text": [
        "P "
       ]
      },
      {
       "output_type": "stream",
       "stream": "stdout",
       "text": [
        "15 T "
       ]
      },
      {
       "output_type": "stream",
       "stream": "stdout",
       "text": [
        "P "
       ]
      },
      {
       "output_type": "stream",
       "stream": "stdout",
       "text": [
        "16 T "
       ]
      },
      {
       "output_type": "stream",
       "stream": "stdout",
       "text": [
        "P "
       ]
      },
      {
       "output_type": "stream",
       "stream": "stdout",
       "text": [
        "17 T "
       ]
      },
      {
       "output_type": "stream",
       "stream": "stdout",
       "text": [
        "P "
       ]
      },
      {
       "output_type": "stream",
       "stream": "stdout",
       "text": [
        "18 T "
       ]
      },
      {
       "output_type": "stream",
       "stream": "stdout",
       "text": [
        "P "
       ]
      },
      {
       "output_type": "stream",
       "stream": "stdout",
       "text": [
        "19 T "
       ]
      },
      {
       "output_type": "stream",
       "stream": "stdout",
       "text": [
        "P\n"
       ]
      }
     ],
     "prompt_number": 149
    },
    {
     "cell_type": "code",
     "collapsed": false,
     "input": [
      "submission_filename = 'submission_{}'.format(timestamp())\n",
      "submission = pd.DataFrame(y_test, index=[id + '.jpg' for id in ids], columns=net2.enc_.classes_)\n",
      "submission.to_csv(submission_filename + '.csv', index_label='image')\n",
      "print submission_filename"
     ],
     "language": "python",
     "metadata": {},
     "outputs": [
      {
       "output_type": "stream",
       "stream": "stdout",
       "text": [
        "submission_2015_03_10_07_19\n"
       ]
      }
     ],
     "prompt_number": 150
    },
    {
     "cell_type": "code",
     "collapsed": false,
     "input": [
      "!zip -u {submission_filename}.zip {submission_filename}.csv"
     ],
     "language": "python",
     "metadata": {},
     "outputs": []
    }
   ],
   "metadata": {}
  }
 ]
}
